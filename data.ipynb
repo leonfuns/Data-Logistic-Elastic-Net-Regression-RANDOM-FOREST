{
  "cells": [
    {
      "cell_type": "markdown",
      "metadata": {
        "id": "view-in-github",
        "colab_type": "text"
      },
      "source": [
        "<a href=\"https://colab.research.google.com/github/leonfuns/Data-Logistic-Elastic-Net-Regression-RANDOM-FOREST/blob/main/data.ipynb\" target=\"_parent\"><img src=\"https://colab.research.google.com/assets/colab-badge.svg\" alt=\"Open In Colab\"/></a>"
      ]
    },
    {
      "cell_type": "code",
      "execution_count": null,
      "metadata": {
        "colab": {
          "base_uri": "https://localhost:8080/"
        },
        "id": "6MOoyi_3vc4R",
        "outputId": "97637de4-db8f-4fa6-fabb-bde7925a5d89"
      },
      "outputs": [
        {
          "output_type": "stream",
          "name": "stderr",
          "text": [
            "Installing package into ‘/usr/local/lib/R/site-library’\n",
            "(as ‘lib’ is unspecified)\n",
            "\n",
            "Installing package into ‘/usr/local/lib/R/site-library’\n",
            "(as ‘lib’ is unspecified)\n",
            "\n",
            "also installing the dependencies ‘listenv’, ‘parallelly’, ‘future’, ‘globals’, ‘shape’, ‘future.apply’, ‘numDeriv’, ‘progressr’, ‘SQUAREM’, ‘diagram’, ‘lava’, ‘prodlim’, ‘proxy’, ‘iterators’, ‘Rcpp’, ‘clock’, ‘gower’, ‘hardhat’, ‘ipred’, ‘timeDate’, ‘e1071’, ‘foreach’, ‘ModelMetrics’, ‘plyr’, ‘pROC’, ‘recipes’, ‘reshape2’\n",
            "\n",
            "\n",
            "Installing package into ‘/usr/local/lib/R/site-library’\n",
            "(as ‘lib’ is unspecified)\n",
            "\n",
            "also installing the dependency ‘RcppEigen’\n",
            "\n",
            "\n",
            "Installing package into ‘/usr/local/lib/R/site-library’\n",
            "(as ‘lib’ is unspecified)\n",
            "\n",
            "also installing the dependencies ‘SparseM’, ‘MatrixModels’, ‘minqa’, ‘nloptr’, ‘carData’, ‘abind’, ‘pbkrtest’, ‘quantreg’, ‘lme4’, ‘corrplot’, ‘car’, ‘ggrepel’, ‘ggsci’, ‘cowplot’, ‘ggsignif’, ‘gridExtra’, ‘polynom’, ‘rstatix’\n",
            "\n",
            "\n",
            "Installing package into ‘/usr/local/lib/R/site-library’\n",
            "(as ‘lib’ is unspecified)\n",
            "\n",
            "Installing package into ‘/usr/local/lib/R/site-library’\n",
            "(as ‘lib’ is unspecified)\n",
            "\n",
            "Installing package into ‘/usr/local/lib/R/site-library’\n",
            "(as ‘lib’ is unspecified)\n",
            "\n"
          ]
        }
      ],
      "source": [
        "# Install necessary packages for data analysis and visualization\n",
        "#install.packages(c(\"tidyverse\",\"ggpubr\",\"moments\",\"scatterplot3d\",\"factoextra\",\"ranger\"))\n",
        "#install.packages(c(\"tidyverse\",\"caret\",\"ranger\",\"ggpubr\",\"rpart\",\"rpart.plot\"))\n",
        "install.packages(\"tidyverse\")\n",
        "install.packages(\"caret\")\n",
        "install.packages(\"ranger\")\n",
        "install.packages(\"ggpubr\")\n",
        "install.packages(\"rpart\")\n",
        "install.packages(\"rpart.plot\")\n",
        "install.packages(\"glmnet\")\n",
        "\n",
        "#install.packages(c(\"rpart\",\"rpart.plot\"))"
      ]
    },
    {
      "cell_type": "code",
      "execution_count": null,
      "metadata": {
        "colab": {
          "base_uri": "https://localhost:8080/"
        },
        "id": "BkpMLQR11v_s",
        "outputId": "d2e4b127-ba59-41b4-c8d2-52d7c3b4b576"
      },
      "outputs": [
        {
          "output_type": "stream",
          "name": "stderr",
          "text": [
            "── \u001b[1mAttaching core tidyverse packages\u001b[22m ──────────────────────── tidyverse 2.0.0 ──\n",
            "\u001b[32m✔\u001b[39m \u001b[34mdplyr    \u001b[39m 1.1.4     \u001b[32m✔\u001b[39m \u001b[34mreadr    \u001b[39m 2.1.5\n",
            "\u001b[32m✔\u001b[39m \u001b[34mforcats  \u001b[39m 1.0.0     \u001b[32m✔\u001b[39m \u001b[34mstringr  \u001b[39m 1.5.1\n",
            "\u001b[32m✔\u001b[39m \u001b[34mggplot2  \u001b[39m 3.4.4     \u001b[32m✔\u001b[39m \u001b[34mtibble   \u001b[39m 3.2.1\n",
            "\u001b[32m✔\u001b[39m \u001b[34mlubridate\u001b[39m 1.9.3     \u001b[32m✔\u001b[39m \u001b[34mtidyr    \u001b[39m 1.3.1\n",
            "\u001b[32m✔\u001b[39m \u001b[34mpurrr    \u001b[39m 1.0.2     \n",
            "── \u001b[1mConflicts\u001b[22m ────────────────────────────────────────── tidyverse_conflicts() ──\n",
            "\u001b[31m✖\u001b[39m \u001b[34mpurrr\u001b[39m::\u001b[32m%||%()\u001b[39m   masks \u001b[34mbase\u001b[39m::%||%()\n",
            "\u001b[31m✖\u001b[39m \u001b[34mdplyr\u001b[39m::\u001b[32mfilter()\u001b[39m masks \u001b[34mstats\u001b[39m::filter()\n",
            "\u001b[31m✖\u001b[39m \u001b[34mdplyr\u001b[39m::\u001b[32mlag()\u001b[39m    masks \u001b[34mstats\u001b[39m::lag()\n",
            "\u001b[36mℹ\u001b[39m Use the conflicted package (\u001b[3m\u001b[34m<http://conflicted.r-lib.org/>\u001b[39m\u001b[23m) to force all conflicts to become errors\n",
            "Loading required package: lattice\n",
            "\n",
            "\n",
            "Attaching package: ‘caret’\n",
            "\n",
            "\n",
            "The following object is masked from ‘package:purrr’:\n",
            "\n",
            "    lift\n",
            "\n",
            "\n"
          ]
        }
      ],
      "source": [
        "# Load required libraries\n",
        "library(tidyverse)\n",
        "library(ggpubr)\n",
        "# library(moments)\n",
        "# library(scatterplot3d)\n",
        "# library(factoextra)\n",
        "library(ranger)  #For random forest\n",
        "library(caret)  #Classification and Regression Training package\n",
        "\n",
        "library(rpart)\n",
        "library(rpart.plot)\n",
        "\n",
        "# Set the working directory\n",
        "# Note that you may need to change the path to your work directory\n",
        "#getwd()\n",
        "#setwd(\"/Users/leonfuns/Projects/ECU/data-analysis/a2.try\")\n",
        "options(scipen = 999)"
      ]
    },
    {
      "cell_type": "code",
      "execution_count": null,
      "metadata": {
        "id": "PPW6mhs714m7"
      },
      "outputs": [],
      "source": [
        "mydata.b.train <- read.csv(\"mydata.b.train.csv\")\n",
        "mydata.ub.train <- read.csv(\"mydata.ub.train.csv\")\n",
        "mydata.test <- read.csv(\"mydata.test.csv\")"
      ]
    },
    {
      "cell_type": "code",
      "execution_count": null,
      "metadata": {
        "id": "gmzcUtZf3JvP",
        "colab": {
          "base_uri": "https://localhost:8080/",
          "height": 1000
        },
        "outputId": "52f4d9e6-d3d3-4c47-8b1b-a8a1eb540c2f"
      },
      "outputs": [
        {
          "output_type": "display_data",
          "data": {
            "text/html": [
              "<style>\n",
              ".list-inline {list-style: none; margin:0; padding: 0}\n",
              ".list-inline>li {display: inline-block}\n",
              ".list-inline>li:not(:last-child)::after {content: \"\\00b7\"; padding: 0 .5ex}\n",
              "</style>\n",
              "<ol class=list-inline><li>568309</li><li>14</li></ol>\n"
            ],
            "text/markdown": "1. 568309\n2. 14\n\n\n",
            "text/latex": "\\begin{enumerate*}\n\\item 568309\n\\item 14\n\\end{enumerate*}\n",
            "text/plain": [
              "[1] 568309     14"
            ]
          },
          "metadata": {}
        },
        {
          "output_type": "display_data",
          "data": {
            "text/plain": [
              "       AlertCategory            NetworkEventType  NetworkInteractionType\n",
              " Alert        : 33325   NormalOperation : 46268   Anomalous :247227     \n",
              " Info         :   568   Policy_Violation:170492   Critical  : 30381     \n",
              " Informational: 36991   PolicyViolation :327655   Elevated  : 33531     \n",
              " Warning      :497425   ThreatDetected  : 23894   Regular   :   597     \n",
              "                                                  Suspicious:256068     \n",
              "                                                  Unknown   :   505     \n",
              "                                                                        \n",
              " DataTransferVolume_IN DataTransferVolume_OUT TransactionsPerSession\n",
              " Min.   :  9437211     Min.   :     1024      Min.   : 1024         \n",
              " 1st Qu.:126853092     1st Qu.:118164893      1st Qu.:27657         \n",
              " Median :130860714     Median :143576956      Median :32268         \n",
              " Mean   :132161199     Mean   :142800911      Mean   :32475         \n",
              " 3rd Qu.:135091809     3rd Qu.:166956706      3rd Qu.:37102         \n",
              " Max.   :286793511     Max.   :300000000      Max.   :65535         \n",
              "                                                                    \n",
              " NetworkAccessFrequency UserActivityLevel SystemAccessRate\n",
              " Min.   :   -1          Min.   : 1.000    Min.   : 0.0    \n",
              " 1st Qu.:28098          1st Qu.: 5.000    1st Qu.: 4.0    \n",
              " Median :33212          Median : 5.000    Median : 5.0    \n",
              " Mean   :31985          Mean   : 5.409    Mean   : 5.2    \n",
              " 3rd Qu.:38050          3rd Qu.: 6.000    3rd Qu.: 6.0    \n",
              " Max.   :65535          Max.   :10.000    Max.   :10.0    \n",
              "                                          NA's   :340985  \n",
              " SessionIntegrityCheck ResourceUtilizationFlag SecurityRiskLevel  \n",
              " Mode :logical         Mode :logical           Min.   :  1000000  \n",
              " FALSE:284241          FALSE:482135            1st Qu.:130771757  \n",
              " TRUE :284068          TRUE :86174             Median :151887884  \n",
              "                                               Mean   :151914853  \n",
              "                                               3rd Qu.:173076237  \n",
              "                                               Max.   :295330428  \n",
              "                                                                  \n",
              "  ResponseTime        Classification  \n",
              " Min.   :    0.00   Malicious: 22721  \n",
              " 1st Qu.:   25.74   Normal   :545588  \n",
              " Median :   30.20                     \n",
              " Mean   : 8029.00                     \n",
              " 3rd Qu.:   35.12                     \n",
              " Max.   :99999.00                     \n",
              " NA's   :49                           "
            ]
          },
          "metadata": {}
        },
        {
          "output_type": "display_data",
          "data": {
            "text/plain": [
              "       AlertCategory           NetworkEventType  NetworkInteractionType\n",
              " Alert        : 33325   NormalOperation: 46268   Anomalous :247227     \n",
              " Informational: 37559   PolicyViolation:498147   Critical  : 30381     \n",
              " Warning      :497425   ThreatDetected : 23894   Elevated  : 33531     \n",
              "                                                 Regular   :   597     \n",
              "                                                 Suspicious:256068     \n",
              "                                                 Unknown   :   505     \n",
              "                                                                       \n",
              " DataTransferVolume_IN DataTransferVolume_OUT TransactionsPerSession\n",
              " Min.   :  9437211     Min.   :     1024      Min.   : 1024         \n",
              " 1st Qu.:126853092     1st Qu.:118164893      1st Qu.:27657         \n",
              " Median :130860714     Median :143576956      Median :32268         \n",
              " Mean   :132161199     Mean   :142800911      Mean   :32475         \n",
              " 3rd Qu.:135091809     3rd Qu.:166956706      3rd Qu.:37102         \n",
              " Max.   :286793511     Max.   :300000000      Max.   :65535         \n",
              "                                                                    \n",
              " NetworkAccessFrequency UserActivityLevel SystemAccessRate\n",
              " Min.   : 1362          Min.   : 1.000    Min.   : 0.0    \n",
              " 1st Qu.:29005          1st Qu.: 5.000    1st Qu.: 4.0    \n",
              " Median :33671          Median : 5.000    Median : 5.0    \n",
              " Mean   :33668          Mean   : 5.409    Mean   : 5.2    \n",
              " 3rd Qu.:38332          3rd Qu.: 6.000    3rd Qu.: 6.0    \n",
              " Max.   :65535          Max.   :10.000    Max.   :10.0    \n",
              " NA's   :28415                            NA's   :340985  \n",
              " SessionIntegrityCheck ResourceUtilizationFlag SecurityRiskLevel  \n",
              " Mode :logical         Mode :logical           Min.   :  1000000  \n",
              " FALSE:284241          FALSE:482135            1st Qu.:130771757  \n",
              " TRUE :284068          TRUE :86174             Median :151887884  \n",
              "                                               Mean   :151914853  \n",
              "                                               3rd Qu.:173076237  \n",
              "                                               Max.   :295330428  \n",
              "                                                                  \n",
              "  ResponseTime      Classification  \n",
              " Min.   :  0.00   Malicious: 22721  \n",
              " 1st Qu.: 25.31   Normal   :545588  \n",
              " Median : 29.49                     \n",
              " Mean   : 29.58                     \n",
              " 3rd Qu.: 33.68                     \n",
              " Max.   :149.97                     \n",
              " NA's   :47563                      "
            ]
          },
          "metadata": {}
        },
        {
          "output_type": "display_data",
          "data": {
            "text/plain": [
              "       AlertCategory           NetworkEventType  NetworkInteractionType\n",
              " Alert        : 33325   NormalOperation: 46268   Anomalous :247227     \n",
              " Informational: 37559   PolicyViolation:498147   Critical  : 30381     \n",
              " Warning      :497425   ThreatDetected : 23894   Elevated  : 33531     \n",
              "                                                 Others    :  1102     \n",
              "                                                 Suspicious:256068     \n",
              "                                                                       \n",
              "                                                                       \n",
              " DataTransferVolume_IN DataTransferVolume_OUT TransactionsPerSession\n",
              " Min.   :  9437211     Min.   :     1024      Min.   : 1024         \n",
              " 1st Qu.:126853092     1st Qu.:118164893      1st Qu.:27657         \n",
              " Median :130860714     Median :143576956      Median :32268         \n",
              " Mean   :132161199     Mean   :142800911      Mean   :32475         \n",
              " 3rd Qu.:135091809     3rd Qu.:166956706      3rd Qu.:37102         \n",
              " Max.   :286793511     Max.   :300000000      Max.   :65535         \n",
              "                                                                    \n",
              " NetworkAccessFrequency UserActivityLevel SystemAccessRate\n",
              " Min.   : 1362          Min.   : 1.000    Min.   : 0.0    \n",
              " 1st Qu.:29005          1st Qu.: 5.000    1st Qu.: 4.0    \n",
              " Median :33671          Median : 5.000    Median : 5.0    \n",
              " Mean   :33668          Mean   : 5.409    Mean   : 5.2    \n",
              " 3rd Qu.:38332          3rd Qu.: 6.000    3rd Qu.: 6.0    \n",
              " Max.   :65535          Max.   :10.000    Max.   :10.0    \n",
              " NA's   :28415                            NA's   :340985  \n",
              " SessionIntegrityCheck ResourceUtilizationFlag SecurityRiskLevel  \n",
              " Mode :logical         Mode :logical           Min.   :  1000000  \n",
              " FALSE:284241          FALSE:482135            1st Qu.:130771757  \n",
              " TRUE :284068          TRUE :86174             Median :151887884  \n",
              "                                               Mean   :151914853  \n",
              "                                               3rd Qu.:173076237  \n",
              "                                               Max.   :295330428  \n",
              "                                                                  \n",
              "  ResponseTime      Classification  \n",
              " Min.   :  0.00   Malicious: 22721  \n",
              " 1st Qu.: 25.31   Normal   :545588  \n",
              " Median : 29.49                     \n",
              " Mean   : 29.58                     \n",
              " 3rd Qu.: 33.68                     \n",
              " Max.   :149.97                     \n",
              " NA's   :47563                      "
            ]
          },
          "metadata": {}
        },
        {
          "output_type": "display_data",
          "data": {
            "text/html": [
              "<table class=\"dataframe\">\n",
              "<caption>A data.frame: 494685 × 13</caption>\n",
              "<thead>\n",
              "\t<tr><th></th><th scope=col>AlertCategory</th><th scope=col>NetworkEventType</th><th scope=col>NetworkInteractionType</th><th scope=col>DataTransferVolume_IN</th><th scope=col>DataTransferVolume_OUT</th><th scope=col>TransactionsPerSession</th><th scope=col>NetworkAccessFrequency</th><th scope=col>UserActivityLevel</th><th scope=col>SessionIntegrityCheck</th><th scope=col>ResourceUtilizationFlag</th><th scope=col>SecurityRiskLevel</th><th scope=col>ResponseTime</th><th scope=col>Classification</th></tr>\n",
              "\t<tr><th></th><th scope=col>&lt;fct&gt;</th><th scope=col>&lt;fct&gt;</th><th scope=col>&lt;fct&gt;</th><th scope=col>&lt;int&gt;</th><th scope=col>&lt;int&gt;</th><th scope=col>&lt;int&gt;</th><th scope=col>&lt;int&gt;</th><th scope=col>&lt;int&gt;</th><th scope=col>&lt;lgl&gt;</th><th scope=col>&lt;lgl&gt;</th><th scope=col>&lt;int&gt;</th><th scope=col>&lt;dbl&gt;</th><th scope=col>&lt;fct&gt;</th></tr>\n",
              "</thead>\n",
              "<tbody>\n",
              "\t<tr><th scope=row>1</th><td>Warning      </td><td>PolicyViolation</td><td>Anomalous </td><td>131262728</td><td>146592187</td><td>32537</td><td>22456</td><td>5</td><td> TRUE</td><td>FALSE</td><td>132988661</td><td>31.62909</td><td>Normal   </td></tr>\n",
              "\t<tr><th scope=row>2</th><td>Warning      </td><td>NormalOperation</td><td>Suspicious</td><td>129798635</td><td>146506072</td><td>33484</td><td>28572</td><td>6</td><td>FALSE</td><td>FALSE</td><td>143157300</td><td>32.46967</td><td>Normal   </td></tr>\n",
              "\t<tr><th scope=row>3</th><td>Warning      </td><td>PolicyViolation</td><td>Elevated  </td><td>126259145</td><td>220211406</td><td>47327</td><td>34350</td><td>6</td><td>FALSE</td><td>FALSE</td><td>119600509</td><td>28.10228</td><td>Normal   </td></tr>\n",
              "\t<tr><th scope=row>4</th><td>Warning      </td><td>PolicyViolation</td><td>Suspicious</td><td>136336338</td><td>151520787</td><td>33754</td><td>29778</td><td>5</td><td> TRUE</td><td>FALSE</td><td>185064385</td><td>37.31185</td><td>Normal   </td></tr>\n",
              "\t<tr><th scope=row>7</th><td>Warning      </td><td>NormalOperation</td><td>Elevated  </td><td>132637143</td><td>231454438</td><td>50430</td><td>44077</td><td>6</td><td> TRUE</td><td>FALSE</td><td>166919341</td><td>19.33138</td><td>Normal   </td></tr>\n",
              "\t<tr><th scope=row>8</th><td>Warning      </td><td>PolicyViolation</td><td>Suspicious</td><td>122106310</td><td>157851266</td><td>35295</td><td>43275</td><td>5</td><td> TRUE</td><td> TRUE</td><td>167271981</td><td>26.19198</td><td>Normal   </td></tr>\n",
              "\t<tr><th scope=row>10</th><td>Warning      </td><td>PolicyViolation</td><td>Suspicious</td><td>132955595</td><td>169043721</td><td>36807</td><td>26580</td><td>4</td><td>FALSE</td><td> TRUE</td><td>120899234</td><td>39.15386</td><td>Normal   </td></tr>\n",
              "\t<tr><th scope=row>11</th><td>Warning      </td><td>ThreatDetected </td><td>Critical  </td><td>136104646</td><td> 87736117</td><td>20753</td><td>38927</td><td>5</td><td> TRUE</td><td>FALSE</td><td>179649744</td><td>39.77326</td><td>Normal   </td></tr>\n",
              "\t<tr><th scope=row>13</th><td>Warning      </td><td>PolicyViolation</td><td>Suspicious</td><td>123039649</td><td>176740931</td><td>38990</td><td>30978</td><td>5</td><td> TRUE</td><td> TRUE</td><td>217460259</td><td>23.64295</td><td>Normal   </td></tr>\n",
              "\t<tr><th scope=row>14</th><td>Warning      </td><td>PolicyViolation</td><td>Suspicious</td><td>133622246</td><td>150275462</td><td>35403</td><td>39166</td><td>6</td><td>FALSE</td><td>FALSE</td><td>157309632</td><td>33.20111</td><td>Normal   </td></tr>\n",
              "\t<tr><th scope=row>15</th><td>Warning      </td><td>PolicyViolation</td><td>Suspicious</td><td>126884975</td><td>166775522</td><td>37904</td><td>28934</td><td>6</td><td> TRUE</td><td>FALSE</td><td>175205081</td><td>38.06447</td><td>Normal   </td></tr>\n",
              "\t<tr><th scope=row>16</th><td>Warning      </td><td>PolicyViolation</td><td>Suspicious</td><td>135615262</td><td>168038648</td><td>38052</td><td>33144</td><td>6</td><td>FALSE</td><td>FALSE</td><td>124567545</td><td>36.10613</td><td>Normal   </td></tr>\n",
              "\t<tr><th scope=row>17</th><td>Warning      </td><td>PolicyViolation</td><td>Suspicious</td><td>124999676</td><td>164795711</td><td>36105</td><td>19275</td><td>5</td><td>FALSE</td><td>FALSE</td><td>159280994</td><td>26.18167</td><td>Normal   </td></tr>\n",
              "\t<tr><th scope=row>18</th><td>Warning      </td><td>PolicyViolation</td><td>Suspicious</td><td>170443804</td><td> 86891942</td><td>25659</td><td>26041</td><td>5</td><td>FALSE</td><td>FALSE</td><td>137400979</td><td>37.39324</td><td>Normal   </td></tr>\n",
              "\t<tr><th scope=row>19</th><td>Warning      </td><td>PolicyViolation</td><td>Suspicious</td><td>138186801</td><td>181429755</td><td>41428</td><td>31458</td><td>7</td><td>FALSE</td><td>FALSE</td><td>187793890</td><td>32.25498</td><td>Normal   </td></tr>\n",
              "\t<tr><th scope=row>20</th><td>Alert        </td><td>PolicyViolation</td><td>Anomalous </td><td>138492552</td><td>124747760</td><td>28611</td><td>32366</td><td>5</td><td>FALSE</td><td>FALSE</td><td>135798073</td><td>40.03785</td><td>Normal   </td></tr>\n",
              "\t<tr><th scope=row>21</th><td>Warning      </td><td>PolicyViolation</td><td>Anomalous </td><td>186407456</td><td> 74103696</td><td>21202</td><td>35976</td><td>3</td><td> TRUE</td><td>FALSE</td><td>157381705</td><td>32.20842</td><td>Malicious</td></tr>\n",
              "\t<tr><th scope=row>22</th><td>Warning      </td><td>PolicyViolation</td><td>Suspicious</td><td>140293378</td><td>162375513</td><td>37242</td><td>46835</td><td>6</td><td> TRUE</td><td>FALSE</td><td>158517007</td><td>25.00158</td><td>Normal   </td></tr>\n",
              "\t<tr><th scope=row>23</th><td>Warning      </td><td>PolicyViolation</td><td>Anomalous </td><td> 99855034</td><td>108838578</td><td>24985</td><td>11182</td><td>6</td><td>FALSE</td><td> TRUE</td><td>163988580</td><td>30.90774</td><td>Normal   </td></tr>\n",
              "\t<tr><th scope=row>24</th><td>Warning      </td><td>PolicyViolation</td><td>Critical  </td><td>133823445</td><td> 92799918</td><td>20590</td><td>39862</td><td>4</td><td>FALSE</td><td>FALSE</td><td>171249552</td><td>24.36459</td><td>Normal   </td></tr>\n",
              "\t<tr><th scope=row>25</th><td>Warning      </td><td>PolicyViolation</td><td>Anomalous </td><td>136808916</td><td>121180593</td><td>28032</td><td>30885</td><td>6</td><td> TRUE</td><td>FALSE</td><td>124364496</td><td>33.36196</td><td>Normal   </td></tr>\n",
              "\t<tr><th scope=row>26</th><td>Warning      </td><td>PolicyViolation</td><td>Suspicious</td><td>141302847</td><td>174349272</td><td>38528</td><td>36114</td><td>5</td><td> TRUE</td><td>FALSE</td><td>163542870</td><td>28.05355</td><td>Normal   </td></tr>\n",
              "\t<tr><th scope=row>27</th><td>Informational</td><td>PolicyViolation</td><td>Anomalous </td><td>127087514</td><td>151191682</td><td>32887</td><td>38531</td><td>5</td><td>FALSE</td><td>FALSE</td><td>140755015</td><td>23.96697</td><td>Normal   </td></tr>\n",
              "\t<tr><th scope=row>28</th><td>Warning      </td><td>NormalOperation</td><td>Elevated  </td><td>130064300</td><td>197242266</td><td>43512</td><td>29047</td><td>6</td><td> TRUE</td><td>FALSE</td><td>151189322</td><td>25.92575</td><td>Normal   </td></tr>\n",
              "\t<tr><th scope=row>29</th><td>Warning      </td><td>PolicyViolation</td><td>Anomalous </td><td>120070103</td><td>138865260</td><td>29784</td><td>38420</td><td>4</td><td> TRUE</td><td> TRUE</td><td>162855062</td><td>25.63166</td><td>Normal   </td></tr>\n",
              "\t<tr><th scope=row>30</th><td>Warning      </td><td>PolicyViolation</td><td>Suspicious</td><td>135113597</td><td>176936941</td><td>40322</td><td>48848</td><td>7</td><td>FALSE</td><td>FALSE</td><td>154343444</td><td>39.23711</td><td>Normal   </td></tr>\n",
              "\t<tr><th scope=row>31</th><td>Informational</td><td>PolicyViolation</td><td>Suspicious</td><td>140520073</td><td>164548949</td><td>38044</td><td>20924</td><td>6</td><td>FALSE</td><td>FALSE</td><td>177221094</td><td>26.49790</td><td>Normal   </td></tr>\n",
              "\t<tr><th scope=row>32</th><td>Warning      </td><td>PolicyViolation</td><td>Suspicious</td><td>126489855</td><td>163185458</td><td>35180</td><td>37947</td><td>5</td><td>FALSE</td><td> TRUE</td><td>176336902</td><td>33.11874</td><td>Normal   </td></tr>\n",
              "\t<tr><th scope=row>33</th><td>Warning      </td><td>PolicyViolation</td><td>Suspicious</td><td>130178561</td><td>149654144</td><td>34215</td><td>21964</td><td>6</td><td> TRUE</td><td>FALSE</td><td>123632597</td><td>37.23823</td><td>Normal   </td></tr>\n",
              "\t<tr><th scope=row>34</th><td>Warning      </td><td>PolicyViolation</td><td>Anomalous </td><td>131127300</td><td>102013633</td><td>24021</td><td>18484</td><td>6</td><td>FALSE</td><td>FALSE</td><td>136926891</td><td>22.52605</td><td>Normal   </td></tr>\n",
              "\t<tr><th scope=row>⋮</th><td>⋮</td><td>⋮</td><td>⋮</td><td>⋮</td><td>⋮</td><td>⋮</td><td>⋮</td><td>⋮</td><td>⋮</td><td>⋮</td><td>⋮</td><td>⋮</td><td>⋮</td></tr>\n",
              "\t<tr><th scope=row>568272</th><td>Warning      </td><td>PolicyViolation</td><td>Suspicious</td><td>125753612</td><td>172578315</td><td>39869</td><td>43328</td><td>7</td><td>FALSE</td><td>FALSE</td><td>154555847</td><td>35.53061</td><td>Normal   </td></tr>\n",
              "\t<tr><th scope=row>568273</th><td>Warning      </td><td>PolicyViolation</td><td>Anomalous </td><td>127388653</td><td>129893722</td><td>28664</td><td>33763</td><td>5</td><td> TRUE</td><td>FALSE</td><td>179055921</td><td>29.72750</td><td>Normal   </td></tr>\n",
              "\t<tr><th scope=row>568274</th><td>Informational</td><td>PolicyViolation</td><td>Anomalous </td><td>148239673</td><td>106196569</td><td>25870</td><td>26196</td><td>4</td><td> TRUE</td><td>FALSE</td><td>175544761</td><td>31.40496</td><td>Malicious</td></tr>\n",
              "\t<tr><th scope=row>568275</th><td>Warning      </td><td>PolicyViolation</td><td>Anomalous </td><td>140573354</td><td>102658108</td><td>24683</td><td>35495</td><td>4</td><td>FALSE</td><td>FALSE</td><td>183817571</td><td>21.64553</td><td>Normal   </td></tr>\n",
              "\t<tr><th scope=row>568277</th><td>Informational</td><td>PolicyViolation</td><td>Suspicious</td><td>128979670</td><td>150626991</td><td>35075</td><td>31156</td><td>6</td><td>FALSE</td><td>FALSE</td><td>106800025</td><td>24.43944</td><td>Normal   </td></tr>\n",
              "\t<tr><th scope=row>568279</th><td>Warning      </td><td>NormalOperation</td><td>Suspicious</td><td>187888860</td><td> 66135028</td><td>24521</td><td>33651</td><td>5</td><td>FALSE</td><td>FALSE</td><td>159555938</td><td>19.30803</td><td>Malicious</td></tr>\n",
              "\t<tr><th scope=row>568282</th><td>Warning      </td><td>PolicyViolation</td><td>Anomalous </td><td>122247058</td><td>122815595</td><td>27136</td><td>16862</td><td>5</td><td> TRUE</td><td>FALSE</td><td>155400931</td><td>22.34403</td><td>Normal   </td></tr>\n",
              "\t<tr><th scope=row>568283</th><td>Warning      </td><td>NormalOperation</td><td>Anomalous </td><td>132947398</td><td>143879014</td><td>32469</td><td>33858</td><td>5</td><td>FALSE</td><td>FALSE</td><td>189369120</td><td>31.81083</td><td>Normal   </td></tr>\n",
              "\t<tr><th scope=row>568284</th><td>Warning      </td><td>PolicyViolation</td><td>Suspicious</td><td>127943207</td><td>170140709</td><td>37818</td><td>41229</td><td>5</td><td> TRUE</td><td>FALSE</td><td>148716549</td><td>34.28359</td><td>Normal   </td></tr>\n",
              "\t<tr><th scope=row>568285</th><td>Warning      </td><td>PolicyViolation</td><td>Suspicious</td><td>130457718</td><td>178263493</td><td>39525</td><td>39670</td><td>5</td><td>FALSE</td><td>FALSE</td><td>166664369</td><td>32.05912</td><td>Normal   </td></tr>\n",
              "\t<tr><th scope=row>568286</th><td>Informational</td><td>PolicyViolation</td><td>Anomalous </td><td>129076779</td><td>103510630</td><td>23715</td><td>40762</td><td>4</td><td> TRUE</td><td>FALSE</td><td> 93378392</td><td>30.02313</td><td>Normal   </td></tr>\n",
              "\t<tr><th scope=row>568287</th><td>Warning      </td><td>NormalOperation</td><td>Suspicious</td><td>121647186</td><td>169500427</td><td>40308</td><td>22681</td><td>8</td><td>FALSE</td><td>FALSE</td><td>150205492</td><td>30.49889</td><td>Normal   </td></tr>\n",
              "\t<tr><th scope=row>568288</th><td>Informational</td><td>PolicyViolation</td><td>Suspicious</td><td>128195730</td><td>141435571</td><td>31031</td><td>39269</td><td>5</td><td> TRUE</td><td>FALSE</td><td>196035065</td><td>31.95864</td><td>Normal   </td></tr>\n",
              "\t<tr><th scope=row>568290</th><td>Informational</td><td>PolicyViolation</td><td>Suspicious</td><td>127614303</td><td>158493959</td><td>35769</td><td>47625</td><td>6</td><td>FALSE</td><td>FALSE</td><td>140821485</td><td>26.63495</td><td>Normal   </td></tr>\n",
              "\t<tr><th scope=row>568291</th><td>Warning      </td><td>PolicyViolation</td><td>Anomalous </td><td>136854273</td><td>160548013</td><td>34344</td><td>39497</td><td>5</td><td> TRUE</td><td>FALSE</td><td>181443660</td><td>30.09706</td><td>Normal   </td></tr>\n",
              "\t<tr><th scope=row>568292</th><td>Warning      </td><td>PolicyViolation</td><td>Suspicious</td><td>136489537</td><td>156894706</td><td>35071</td><td>42168</td><td>5</td><td> TRUE</td><td>FALSE</td><td>176806453</td><td>17.55282</td><td>Normal   </td></tr>\n",
              "\t<tr><th scope=row>568294</th><td>Warning      </td><td>PolicyViolation</td><td>Anomalous </td><td>131119024</td><td> 99212753</td><td>23870</td><td>33724</td><td>6</td><td> TRUE</td><td>FALSE</td><td>154468473</td><td>17.94494</td><td>Normal   </td></tr>\n",
              "\t<tr><th scope=row>568295</th><td>Warning      </td><td>PolicyViolation</td><td>Anomalous </td><td>133088945</td><td>139779996</td><td>31190</td><td>20859</td><td>5</td><td> TRUE</td><td>FALSE</td><td>175432665</td><td>20.02689</td><td>Normal   </td></tr>\n",
              "\t<tr><th scope=row>568296</th><td>Warning      </td><td>PolicyViolation</td><td>Suspicious</td><td>111907549</td><td>135370166</td><td>32557</td><td>32655</td><td>7</td><td> TRUE</td><td>FALSE</td><td>212921838</td><td>29.50488</td><td>Malicious</td></tr>\n",
              "\t<tr><th scope=row>568297</th><td>Warning      </td><td>NormalOperation</td><td>Suspicious</td><td>128214934</td><td>159760525</td><td>34445</td><td>29551</td><td>5</td><td> TRUE</td><td>FALSE</td><td>112486564</td><td>34.12478</td><td>Normal   </td></tr>\n",
              "\t<tr><th scope=row>568298</th><td>Warning      </td><td>PolicyViolation</td><td>Anomalous </td><td>168055717</td><td> 77741198</td><td>23469</td><td>33821</td><td>4</td><td>FALSE</td><td>FALSE</td><td>166017459</td><td>27.15153</td><td>Normal   </td></tr>\n",
              "\t<tr><th scope=row>568299</th><td>Warning      </td><td>PolicyViolation</td><td>Anomalous </td><td>136396982</td><td>133812730</td><td>31237</td><td>32442</td><td>6</td><td> TRUE</td><td>FALSE</td><td>161767923</td><td>22.52978</td><td>Normal   </td></tr>\n",
              "\t<tr><th scope=row>568300</th><td>Warning      </td><td>PolicyViolation</td><td>Anomalous </td><td>132101970</td><td>130153664</td><td>28302</td><td>23057</td><td>4</td><td>FALSE</td><td>FALSE</td><td>157002021</td><td>25.18742</td><td>Normal   </td></tr>\n",
              "\t<tr><th scope=row>568301</th><td>Warning      </td><td>PolicyViolation</td><td>Suspicious</td><td>127521805</td><td>160437472</td><td>34989</td><td>49239</td><td>5</td><td> TRUE</td><td>FALSE</td><td>119641089</td><td>34.35712</td><td>Normal   </td></tr>\n",
              "\t<tr><th scope=row>568302</th><td>Warning      </td><td>PolicyViolation</td><td>Anomalous </td><td>129043103</td><td> 94017250</td><td>25422</td><td>34122</td><td>6</td><td> TRUE</td><td>FALSE</td><td>128103735</td><td>22.73311</td><td>Normal   </td></tr>\n",
              "\t<tr><th scope=row>568303</th><td>Informational</td><td>PolicyViolation</td><td>Anomalous </td><td>139033224</td><td>142817499</td><td>32921</td><td>30237</td><td>6</td><td> TRUE</td><td>FALSE</td><td>145628423</td><td>35.79535</td><td>Normal   </td></tr>\n",
              "\t<tr><th scope=row>568304</th><td>Warning      </td><td>PolicyViolation</td><td>Anomalous </td><td>121755051</td><td>147671619</td><td>32834</td><td>26165</td><td>6</td><td> TRUE</td><td>FALSE</td><td>135752747</td><td>25.74241</td><td>Normal   </td></tr>\n",
              "\t<tr><th scope=row>568306</th><td>Warning      </td><td>NormalOperation</td><td>Suspicious</td><td>129754208</td><td>160965024</td><td>36429</td><td>42301</td><td>6</td><td>FALSE</td><td>FALSE</td><td>119894745</td><td>37.38625</td><td>Normal   </td></tr>\n",
              "\t<tr><th scope=row>568307</th><td>Warning      </td><td>PolicyViolation</td><td>Anomalous </td><td>143067879</td><td>103605084</td><td>25232</td><td>38172</td><td>4</td><td> TRUE</td><td>FALSE</td><td>160824730</td><td>34.53692</td><td>Normal   </td></tr>\n",
              "\t<tr><th scope=row>568309</th><td>Warning      </td><td>PolicyViolation</td><td>Suspicious</td><td>139332066</td><td>168576355</td><td>35973</td><td>44342</td><td>5</td><td>FALSE</td><td>FALSE</td><td>110293766</td><td>23.37158</td><td>Normal   </td></tr>\n",
              "</tbody>\n",
              "</table>\n"
            ],
            "text/markdown": "\nA data.frame: 494685 × 13\n\n| <!--/--> | AlertCategory &lt;fct&gt; | NetworkEventType &lt;fct&gt; | NetworkInteractionType &lt;fct&gt; | DataTransferVolume_IN &lt;int&gt; | DataTransferVolume_OUT &lt;int&gt; | TransactionsPerSession &lt;int&gt; | NetworkAccessFrequency &lt;int&gt; | UserActivityLevel &lt;int&gt; | SessionIntegrityCheck &lt;lgl&gt; | ResourceUtilizationFlag &lt;lgl&gt; | SecurityRiskLevel &lt;int&gt; | ResponseTime &lt;dbl&gt; | Classification &lt;fct&gt; |\n|---|---|---|---|---|---|---|---|---|---|---|---|---|---|\n| 1 | Warning       | PolicyViolation | Anomalous  | 131262728 | 146592187 | 32537 | 22456 | 5 |  TRUE | FALSE | 132988661 | 31.62909 | Normal    |\n| 2 | Warning       | NormalOperation | Suspicious | 129798635 | 146506072 | 33484 | 28572 | 6 | FALSE | FALSE | 143157300 | 32.46967 | Normal    |\n| 3 | Warning       | PolicyViolation | Elevated   | 126259145 | 220211406 | 47327 | 34350 | 6 | FALSE | FALSE | 119600509 | 28.10228 | Normal    |\n| 4 | Warning       | PolicyViolation | Suspicious | 136336338 | 151520787 | 33754 | 29778 | 5 |  TRUE | FALSE | 185064385 | 37.31185 | Normal    |\n| 7 | Warning       | NormalOperation | Elevated   | 132637143 | 231454438 | 50430 | 44077 | 6 |  TRUE | FALSE | 166919341 | 19.33138 | Normal    |\n| 8 | Warning       | PolicyViolation | Suspicious | 122106310 | 157851266 | 35295 | 43275 | 5 |  TRUE |  TRUE | 167271981 | 26.19198 | Normal    |\n| 10 | Warning       | PolicyViolation | Suspicious | 132955595 | 169043721 | 36807 | 26580 | 4 | FALSE |  TRUE | 120899234 | 39.15386 | Normal    |\n| 11 | Warning       | ThreatDetected  | Critical   | 136104646 |  87736117 | 20753 | 38927 | 5 |  TRUE | FALSE | 179649744 | 39.77326 | Normal    |\n| 13 | Warning       | PolicyViolation | Suspicious | 123039649 | 176740931 | 38990 | 30978 | 5 |  TRUE |  TRUE | 217460259 | 23.64295 | Normal    |\n| 14 | Warning       | PolicyViolation | Suspicious | 133622246 | 150275462 | 35403 | 39166 | 6 | FALSE | FALSE | 157309632 | 33.20111 | Normal    |\n| 15 | Warning       | PolicyViolation | Suspicious | 126884975 | 166775522 | 37904 | 28934 | 6 |  TRUE | FALSE | 175205081 | 38.06447 | Normal    |\n| 16 | Warning       | PolicyViolation | Suspicious | 135615262 | 168038648 | 38052 | 33144 | 6 | FALSE | FALSE | 124567545 | 36.10613 | Normal    |\n| 17 | Warning       | PolicyViolation | Suspicious | 124999676 | 164795711 | 36105 | 19275 | 5 | FALSE | FALSE | 159280994 | 26.18167 | Normal    |\n| 18 | Warning       | PolicyViolation | Suspicious | 170443804 |  86891942 | 25659 | 26041 | 5 | FALSE | FALSE | 137400979 | 37.39324 | Normal    |\n| 19 | Warning       | PolicyViolation | Suspicious | 138186801 | 181429755 | 41428 | 31458 | 7 | FALSE | FALSE | 187793890 | 32.25498 | Normal    |\n| 20 | Alert         | PolicyViolation | Anomalous  | 138492552 | 124747760 | 28611 | 32366 | 5 | FALSE | FALSE | 135798073 | 40.03785 | Normal    |\n| 21 | Warning       | PolicyViolation | Anomalous  | 186407456 |  74103696 | 21202 | 35976 | 3 |  TRUE | FALSE | 157381705 | 32.20842 | Malicious |\n| 22 | Warning       | PolicyViolation | Suspicious | 140293378 | 162375513 | 37242 | 46835 | 6 |  TRUE | FALSE | 158517007 | 25.00158 | Normal    |\n| 23 | Warning       | PolicyViolation | Anomalous  |  99855034 | 108838578 | 24985 | 11182 | 6 | FALSE |  TRUE | 163988580 | 30.90774 | Normal    |\n| 24 | Warning       | PolicyViolation | Critical   | 133823445 |  92799918 | 20590 | 39862 | 4 | FALSE | FALSE | 171249552 | 24.36459 | Normal    |\n| 25 | Warning       | PolicyViolation | Anomalous  | 136808916 | 121180593 | 28032 | 30885 | 6 |  TRUE | FALSE | 124364496 | 33.36196 | Normal    |\n| 26 | Warning       | PolicyViolation | Suspicious | 141302847 | 174349272 | 38528 | 36114 | 5 |  TRUE | FALSE | 163542870 | 28.05355 | Normal    |\n| 27 | Informational | PolicyViolation | Anomalous  | 127087514 | 151191682 | 32887 | 38531 | 5 | FALSE | FALSE | 140755015 | 23.96697 | Normal    |\n| 28 | Warning       | NormalOperation | Elevated   | 130064300 | 197242266 | 43512 | 29047 | 6 |  TRUE | FALSE | 151189322 | 25.92575 | Normal    |\n| 29 | Warning       | PolicyViolation | Anomalous  | 120070103 | 138865260 | 29784 | 38420 | 4 |  TRUE |  TRUE | 162855062 | 25.63166 | Normal    |\n| 30 | Warning       | PolicyViolation | Suspicious | 135113597 | 176936941 | 40322 | 48848 | 7 | FALSE | FALSE | 154343444 | 39.23711 | Normal    |\n| 31 | Informational | PolicyViolation | Suspicious | 140520073 | 164548949 | 38044 | 20924 | 6 | FALSE | FALSE | 177221094 | 26.49790 | Normal    |\n| 32 | Warning       | PolicyViolation | Suspicious | 126489855 | 163185458 | 35180 | 37947 | 5 | FALSE |  TRUE | 176336902 | 33.11874 | Normal    |\n| 33 | Warning       | PolicyViolation | Suspicious | 130178561 | 149654144 | 34215 | 21964 | 6 |  TRUE | FALSE | 123632597 | 37.23823 | Normal    |\n| 34 | Warning       | PolicyViolation | Anomalous  | 131127300 | 102013633 | 24021 | 18484 | 6 | FALSE | FALSE | 136926891 | 22.52605 | Normal    |\n| ⋮ | ⋮ | ⋮ | ⋮ | ⋮ | ⋮ | ⋮ | ⋮ | ⋮ | ⋮ | ⋮ | ⋮ | ⋮ | ⋮ |\n| 568272 | Warning       | PolicyViolation | Suspicious | 125753612 | 172578315 | 39869 | 43328 | 7 | FALSE | FALSE | 154555847 | 35.53061 | Normal    |\n| 568273 | Warning       | PolicyViolation | Anomalous  | 127388653 | 129893722 | 28664 | 33763 | 5 |  TRUE | FALSE | 179055921 | 29.72750 | Normal    |\n| 568274 | Informational | PolicyViolation | Anomalous  | 148239673 | 106196569 | 25870 | 26196 | 4 |  TRUE | FALSE | 175544761 | 31.40496 | Malicious |\n| 568275 | Warning       | PolicyViolation | Anomalous  | 140573354 | 102658108 | 24683 | 35495 | 4 | FALSE | FALSE | 183817571 | 21.64553 | Normal    |\n| 568277 | Informational | PolicyViolation | Suspicious | 128979670 | 150626991 | 35075 | 31156 | 6 | FALSE | FALSE | 106800025 | 24.43944 | Normal    |\n| 568279 | Warning       | NormalOperation | Suspicious | 187888860 |  66135028 | 24521 | 33651 | 5 | FALSE | FALSE | 159555938 | 19.30803 | Malicious |\n| 568282 | Warning       | PolicyViolation | Anomalous  | 122247058 | 122815595 | 27136 | 16862 | 5 |  TRUE | FALSE | 155400931 | 22.34403 | Normal    |\n| 568283 | Warning       | NormalOperation | Anomalous  | 132947398 | 143879014 | 32469 | 33858 | 5 | FALSE | FALSE | 189369120 | 31.81083 | Normal    |\n| 568284 | Warning       | PolicyViolation | Suspicious | 127943207 | 170140709 | 37818 | 41229 | 5 |  TRUE | FALSE | 148716549 | 34.28359 | Normal    |\n| 568285 | Warning       | PolicyViolation | Suspicious | 130457718 | 178263493 | 39525 | 39670 | 5 | FALSE | FALSE | 166664369 | 32.05912 | Normal    |\n| 568286 | Informational | PolicyViolation | Anomalous  | 129076779 | 103510630 | 23715 | 40762 | 4 |  TRUE | FALSE |  93378392 | 30.02313 | Normal    |\n| 568287 | Warning       | NormalOperation | Suspicious | 121647186 | 169500427 | 40308 | 22681 | 8 | FALSE | FALSE | 150205492 | 30.49889 | Normal    |\n| 568288 | Informational | PolicyViolation | Suspicious | 128195730 | 141435571 | 31031 | 39269 | 5 |  TRUE | FALSE | 196035065 | 31.95864 | Normal    |\n| 568290 | Informational | PolicyViolation | Suspicious | 127614303 | 158493959 | 35769 | 47625 | 6 | FALSE | FALSE | 140821485 | 26.63495 | Normal    |\n| 568291 | Warning       | PolicyViolation | Anomalous  | 136854273 | 160548013 | 34344 | 39497 | 5 |  TRUE | FALSE | 181443660 | 30.09706 | Normal    |\n| 568292 | Warning       | PolicyViolation | Suspicious | 136489537 | 156894706 | 35071 | 42168 | 5 |  TRUE | FALSE | 176806453 | 17.55282 | Normal    |\n| 568294 | Warning       | PolicyViolation | Anomalous  | 131119024 |  99212753 | 23870 | 33724 | 6 |  TRUE | FALSE | 154468473 | 17.94494 | Normal    |\n| 568295 | Warning       | PolicyViolation | Anomalous  | 133088945 | 139779996 | 31190 | 20859 | 5 |  TRUE | FALSE | 175432665 | 20.02689 | Normal    |\n| 568296 | Warning       | PolicyViolation | Suspicious | 111907549 | 135370166 | 32557 | 32655 | 7 |  TRUE | FALSE | 212921838 | 29.50488 | Malicious |\n| 568297 | Warning       | NormalOperation | Suspicious | 128214934 | 159760525 | 34445 | 29551 | 5 |  TRUE | FALSE | 112486564 | 34.12478 | Normal    |\n| 568298 | Warning       | PolicyViolation | Anomalous  | 168055717 |  77741198 | 23469 | 33821 | 4 | FALSE | FALSE | 166017459 | 27.15153 | Normal    |\n| 568299 | Warning       | PolicyViolation | Anomalous  | 136396982 | 133812730 | 31237 | 32442 | 6 |  TRUE | FALSE | 161767923 | 22.52978 | Normal    |\n| 568300 | Warning       | PolicyViolation | Anomalous  | 132101970 | 130153664 | 28302 | 23057 | 4 | FALSE | FALSE | 157002021 | 25.18742 | Normal    |\n| 568301 | Warning       | PolicyViolation | Suspicious | 127521805 | 160437472 | 34989 | 49239 | 5 |  TRUE | FALSE | 119641089 | 34.35712 | Normal    |\n| 568302 | Warning       | PolicyViolation | Anomalous  | 129043103 |  94017250 | 25422 | 34122 | 6 |  TRUE | FALSE | 128103735 | 22.73311 | Normal    |\n| 568303 | Informational | PolicyViolation | Anomalous  | 139033224 | 142817499 | 32921 | 30237 | 6 |  TRUE | FALSE | 145628423 | 35.79535 | Normal    |\n| 568304 | Warning       | PolicyViolation | Anomalous  | 121755051 | 147671619 | 32834 | 26165 | 6 |  TRUE | FALSE | 135752747 | 25.74241 | Normal    |\n| 568306 | Warning       | NormalOperation | Suspicious | 129754208 | 160965024 | 36429 | 42301 | 6 | FALSE | FALSE | 119894745 | 37.38625 | Normal    |\n| 568307 | Warning       | PolicyViolation | Anomalous  | 143067879 | 103605084 | 25232 | 38172 | 4 |  TRUE | FALSE | 160824730 | 34.53692 | Normal    |\n| 568309 | Warning       | PolicyViolation | Suspicious | 139332066 | 168576355 | 35973 | 44342 | 5 | FALSE | FALSE | 110293766 | 23.37158 | Normal    |\n\n",
            "text/latex": "A data.frame: 494685 × 13\n\\begin{tabular}{r|lllllllllllll}\n  & AlertCategory & NetworkEventType & NetworkInteractionType & DataTransferVolume\\_IN & DataTransferVolume\\_OUT & TransactionsPerSession & NetworkAccessFrequency & UserActivityLevel & SessionIntegrityCheck & ResourceUtilizationFlag & SecurityRiskLevel & ResponseTime & Classification\\\\\n  & <fct> & <fct> & <fct> & <int> & <int> & <int> & <int> & <int> & <lgl> & <lgl> & <int> & <dbl> & <fct>\\\\\n\\hline\n\t1 & Warning       & PolicyViolation & Anomalous  & 131262728 & 146592187 & 32537 & 22456 & 5 &  TRUE & FALSE & 132988661 & 31.62909 & Normal   \\\\\n\t2 & Warning       & NormalOperation & Suspicious & 129798635 & 146506072 & 33484 & 28572 & 6 & FALSE & FALSE & 143157300 & 32.46967 & Normal   \\\\\n\t3 & Warning       & PolicyViolation & Elevated   & 126259145 & 220211406 & 47327 & 34350 & 6 & FALSE & FALSE & 119600509 & 28.10228 & Normal   \\\\\n\t4 & Warning       & PolicyViolation & Suspicious & 136336338 & 151520787 & 33754 & 29778 & 5 &  TRUE & FALSE & 185064385 & 37.31185 & Normal   \\\\\n\t7 & Warning       & NormalOperation & Elevated   & 132637143 & 231454438 & 50430 & 44077 & 6 &  TRUE & FALSE & 166919341 & 19.33138 & Normal   \\\\\n\t8 & Warning       & PolicyViolation & Suspicious & 122106310 & 157851266 & 35295 & 43275 & 5 &  TRUE &  TRUE & 167271981 & 26.19198 & Normal   \\\\\n\t10 & Warning       & PolicyViolation & Suspicious & 132955595 & 169043721 & 36807 & 26580 & 4 & FALSE &  TRUE & 120899234 & 39.15386 & Normal   \\\\\n\t11 & Warning       & ThreatDetected  & Critical   & 136104646 &  87736117 & 20753 & 38927 & 5 &  TRUE & FALSE & 179649744 & 39.77326 & Normal   \\\\\n\t13 & Warning       & PolicyViolation & Suspicious & 123039649 & 176740931 & 38990 & 30978 & 5 &  TRUE &  TRUE & 217460259 & 23.64295 & Normal   \\\\\n\t14 & Warning       & PolicyViolation & Suspicious & 133622246 & 150275462 & 35403 & 39166 & 6 & FALSE & FALSE & 157309632 & 33.20111 & Normal   \\\\\n\t15 & Warning       & PolicyViolation & Suspicious & 126884975 & 166775522 & 37904 & 28934 & 6 &  TRUE & FALSE & 175205081 & 38.06447 & Normal   \\\\\n\t16 & Warning       & PolicyViolation & Suspicious & 135615262 & 168038648 & 38052 & 33144 & 6 & FALSE & FALSE & 124567545 & 36.10613 & Normal   \\\\\n\t17 & Warning       & PolicyViolation & Suspicious & 124999676 & 164795711 & 36105 & 19275 & 5 & FALSE & FALSE & 159280994 & 26.18167 & Normal   \\\\\n\t18 & Warning       & PolicyViolation & Suspicious & 170443804 &  86891942 & 25659 & 26041 & 5 & FALSE & FALSE & 137400979 & 37.39324 & Normal   \\\\\n\t19 & Warning       & PolicyViolation & Suspicious & 138186801 & 181429755 & 41428 & 31458 & 7 & FALSE & FALSE & 187793890 & 32.25498 & Normal   \\\\\n\t20 & Alert         & PolicyViolation & Anomalous  & 138492552 & 124747760 & 28611 & 32366 & 5 & FALSE & FALSE & 135798073 & 40.03785 & Normal   \\\\\n\t21 & Warning       & PolicyViolation & Anomalous  & 186407456 &  74103696 & 21202 & 35976 & 3 &  TRUE & FALSE & 157381705 & 32.20842 & Malicious\\\\\n\t22 & Warning       & PolicyViolation & Suspicious & 140293378 & 162375513 & 37242 & 46835 & 6 &  TRUE & FALSE & 158517007 & 25.00158 & Normal   \\\\\n\t23 & Warning       & PolicyViolation & Anomalous  &  99855034 & 108838578 & 24985 & 11182 & 6 & FALSE &  TRUE & 163988580 & 30.90774 & Normal   \\\\\n\t24 & Warning       & PolicyViolation & Critical   & 133823445 &  92799918 & 20590 & 39862 & 4 & FALSE & FALSE & 171249552 & 24.36459 & Normal   \\\\\n\t25 & Warning       & PolicyViolation & Anomalous  & 136808916 & 121180593 & 28032 & 30885 & 6 &  TRUE & FALSE & 124364496 & 33.36196 & Normal   \\\\\n\t26 & Warning       & PolicyViolation & Suspicious & 141302847 & 174349272 & 38528 & 36114 & 5 &  TRUE & FALSE & 163542870 & 28.05355 & Normal   \\\\\n\t27 & Informational & PolicyViolation & Anomalous  & 127087514 & 151191682 & 32887 & 38531 & 5 & FALSE & FALSE & 140755015 & 23.96697 & Normal   \\\\\n\t28 & Warning       & NormalOperation & Elevated   & 130064300 & 197242266 & 43512 & 29047 & 6 &  TRUE & FALSE & 151189322 & 25.92575 & Normal   \\\\\n\t29 & Warning       & PolicyViolation & Anomalous  & 120070103 & 138865260 & 29784 & 38420 & 4 &  TRUE &  TRUE & 162855062 & 25.63166 & Normal   \\\\\n\t30 & Warning       & PolicyViolation & Suspicious & 135113597 & 176936941 & 40322 & 48848 & 7 & FALSE & FALSE & 154343444 & 39.23711 & Normal   \\\\\n\t31 & Informational & PolicyViolation & Suspicious & 140520073 & 164548949 & 38044 & 20924 & 6 & FALSE & FALSE & 177221094 & 26.49790 & Normal   \\\\\n\t32 & Warning       & PolicyViolation & Suspicious & 126489855 & 163185458 & 35180 & 37947 & 5 & FALSE &  TRUE & 176336902 & 33.11874 & Normal   \\\\\n\t33 & Warning       & PolicyViolation & Suspicious & 130178561 & 149654144 & 34215 & 21964 & 6 &  TRUE & FALSE & 123632597 & 37.23823 & Normal   \\\\\n\t34 & Warning       & PolicyViolation & Anomalous  & 131127300 & 102013633 & 24021 & 18484 & 6 & FALSE & FALSE & 136926891 & 22.52605 & Normal   \\\\\n\t⋮ & ⋮ & ⋮ & ⋮ & ⋮ & ⋮ & ⋮ & ⋮ & ⋮ & ⋮ & ⋮ & ⋮ & ⋮ & ⋮\\\\\n\t568272 & Warning       & PolicyViolation & Suspicious & 125753612 & 172578315 & 39869 & 43328 & 7 & FALSE & FALSE & 154555847 & 35.53061 & Normal   \\\\\n\t568273 & Warning       & PolicyViolation & Anomalous  & 127388653 & 129893722 & 28664 & 33763 & 5 &  TRUE & FALSE & 179055921 & 29.72750 & Normal   \\\\\n\t568274 & Informational & PolicyViolation & Anomalous  & 148239673 & 106196569 & 25870 & 26196 & 4 &  TRUE & FALSE & 175544761 & 31.40496 & Malicious\\\\\n\t568275 & Warning       & PolicyViolation & Anomalous  & 140573354 & 102658108 & 24683 & 35495 & 4 & FALSE & FALSE & 183817571 & 21.64553 & Normal   \\\\\n\t568277 & Informational & PolicyViolation & Suspicious & 128979670 & 150626991 & 35075 & 31156 & 6 & FALSE & FALSE & 106800025 & 24.43944 & Normal   \\\\\n\t568279 & Warning       & NormalOperation & Suspicious & 187888860 &  66135028 & 24521 & 33651 & 5 & FALSE & FALSE & 159555938 & 19.30803 & Malicious\\\\\n\t568282 & Warning       & PolicyViolation & Anomalous  & 122247058 & 122815595 & 27136 & 16862 & 5 &  TRUE & FALSE & 155400931 & 22.34403 & Normal   \\\\\n\t568283 & Warning       & NormalOperation & Anomalous  & 132947398 & 143879014 & 32469 & 33858 & 5 & FALSE & FALSE & 189369120 & 31.81083 & Normal   \\\\\n\t568284 & Warning       & PolicyViolation & Suspicious & 127943207 & 170140709 & 37818 & 41229 & 5 &  TRUE & FALSE & 148716549 & 34.28359 & Normal   \\\\\n\t568285 & Warning       & PolicyViolation & Suspicious & 130457718 & 178263493 & 39525 & 39670 & 5 & FALSE & FALSE & 166664369 & 32.05912 & Normal   \\\\\n\t568286 & Informational & PolicyViolation & Anomalous  & 129076779 & 103510630 & 23715 & 40762 & 4 &  TRUE & FALSE &  93378392 & 30.02313 & Normal   \\\\\n\t568287 & Warning       & NormalOperation & Suspicious & 121647186 & 169500427 & 40308 & 22681 & 8 & FALSE & FALSE & 150205492 & 30.49889 & Normal   \\\\\n\t568288 & Informational & PolicyViolation & Suspicious & 128195730 & 141435571 & 31031 & 39269 & 5 &  TRUE & FALSE & 196035065 & 31.95864 & Normal   \\\\\n\t568290 & Informational & PolicyViolation & Suspicious & 127614303 & 158493959 & 35769 & 47625 & 6 & FALSE & FALSE & 140821485 & 26.63495 & Normal   \\\\\n\t568291 & Warning       & PolicyViolation & Anomalous  & 136854273 & 160548013 & 34344 & 39497 & 5 &  TRUE & FALSE & 181443660 & 30.09706 & Normal   \\\\\n\t568292 & Warning       & PolicyViolation & Suspicious & 136489537 & 156894706 & 35071 & 42168 & 5 &  TRUE & FALSE & 176806453 & 17.55282 & Normal   \\\\\n\t568294 & Warning       & PolicyViolation & Anomalous  & 131119024 &  99212753 & 23870 & 33724 & 6 &  TRUE & FALSE & 154468473 & 17.94494 & Normal   \\\\\n\t568295 & Warning       & PolicyViolation & Anomalous  & 133088945 & 139779996 & 31190 & 20859 & 5 &  TRUE & FALSE & 175432665 & 20.02689 & Normal   \\\\\n\t568296 & Warning       & PolicyViolation & Suspicious & 111907549 & 135370166 & 32557 & 32655 & 7 &  TRUE & FALSE & 212921838 & 29.50488 & Malicious\\\\\n\t568297 & Warning       & NormalOperation & Suspicious & 128214934 & 159760525 & 34445 & 29551 & 5 &  TRUE & FALSE & 112486564 & 34.12478 & Normal   \\\\\n\t568298 & Warning       & PolicyViolation & Anomalous  & 168055717 &  77741198 & 23469 & 33821 & 4 & FALSE & FALSE & 166017459 & 27.15153 & Normal   \\\\\n\t568299 & Warning       & PolicyViolation & Anomalous  & 136396982 & 133812730 & 31237 & 32442 & 6 &  TRUE & FALSE & 161767923 & 22.52978 & Normal   \\\\\n\t568300 & Warning       & PolicyViolation & Anomalous  & 132101970 & 130153664 & 28302 & 23057 & 4 & FALSE & FALSE & 157002021 & 25.18742 & Normal   \\\\\n\t568301 & Warning       & PolicyViolation & Suspicious & 127521805 & 160437472 & 34989 & 49239 & 5 &  TRUE & FALSE & 119641089 & 34.35712 & Normal   \\\\\n\t568302 & Warning       & PolicyViolation & Anomalous  & 129043103 &  94017250 & 25422 & 34122 & 6 &  TRUE & FALSE & 128103735 & 22.73311 & Normal   \\\\\n\t568303 & Informational & PolicyViolation & Anomalous  & 139033224 & 142817499 & 32921 & 30237 & 6 &  TRUE & FALSE & 145628423 & 35.79535 & Normal   \\\\\n\t568304 & Warning       & PolicyViolation & Anomalous  & 121755051 & 147671619 & 32834 & 26165 & 6 &  TRUE & FALSE & 135752747 & 25.74241 & Normal   \\\\\n\t568306 & Warning       & NormalOperation & Suspicious & 129754208 & 160965024 & 36429 & 42301 & 6 & FALSE & FALSE & 119894745 & 37.38625 & Normal   \\\\\n\t568307 & Warning       & PolicyViolation & Anomalous  & 143067879 & 103605084 & 25232 & 38172 & 4 &  TRUE & FALSE & 160824730 & 34.53692 & Normal   \\\\\n\t568309 & Warning       & PolicyViolation & Suspicious & 139332066 & 168576355 & 35973 & 44342 & 5 & FALSE & FALSE & 110293766 & 23.37158 & Normal   \\\\\n\\end{tabular}\n",
            "text/plain": [
              "       AlertCategory NetworkEventType NetworkInteractionType\n",
              "1      Warning       PolicyViolation  Anomalous             \n",
              "2      Warning       NormalOperation  Suspicious            \n",
              "3      Warning       PolicyViolation  Elevated              \n",
              "4      Warning       PolicyViolation  Suspicious            \n",
              "7      Warning       NormalOperation  Elevated              \n",
              "8      Warning       PolicyViolation  Suspicious            \n",
              "10     Warning       PolicyViolation  Suspicious            \n",
              "11     Warning       ThreatDetected   Critical              \n",
              "13     Warning       PolicyViolation  Suspicious            \n",
              "14     Warning       PolicyViolation  Suspicious            \n",
              "15     Warning       PolicyViolation  Suspicious            \n",
              "16     Warning       PolicyViolation  Suspicious            \n",
              "17     Warning       PolicyViolation  Suspicious            \n",
              "18     Warning       PolicyViolation  Suspicious            \n",
              "19     Warning       PolicyViolation  Suspicious            \n",
              "20     Alert         PolicyViolation  Anomalous             \n",
              "21     Warning       PolicyViolation  Anomalous             \n",
              "22     Warning       PolicyViolation  Suspicious            \n",
              "23     Warning       PolicyViolation  Anomalous             \n",
              "24     Warning       PolicyViolation  Critical              \n",
              "25     Warning       PolicyViolation  Anomalous             \n",
              "26     Warning       PolicyViolation  Suspicious            \n",
              "27     Informational PolicyViolation  Anomalous             \n",
              "28     Warning       NormalOperation  Elevated              \n",
              "29     Warning       PolicyViolation  Anomalous             \n",
              "30     Warning       PolicyViolation  Suspicious            \n",
              "31     Informational PolicyViolation  Suspicious            \n",
              "32     Warning       PolicyViolation  Suspicious            \n",
              "33     Warning       PolicyViolation  Suspicious            \n",
              "34     Warning       PolicyViolation  Anomalous             \n",
              "⋮      ⋮             ⋮                ⋮                     \n",
              "568272 Warning       PolicyViolation  Suspicious            \n",
              "568273 Warning       PolicyViolation  Anomalous             \n",
              "568274 Informational PolicyViolation  Anomalous             \n",
              "568275 Warning       PolicyViolation  Anomalous             \n",
              "568277 Informational PolicyViolation  Suspicious            \n",
              "568279 Warning       NormalOperation  Suspicious            \n",
              "568282 Warning       PolicyViolation  Anomalous             \n",
              "568283 Warning       NormalOperation  Anomalous             \n",
              "568284 Warning       PolicyViolation  Suspicious            \n",
              "568285 Warning       PolicyViolation  Suspicious            \n",
              "568286 Informational PolicyViolation  Anomalous             \n",
              "568287 Warning       NormalOperation  Suspicious            \n",
              "568288 Informational PolicyViolation  Suspicious            \n",
              "568290 Informational PolicyViolation  Suspicious            \n",
              "568291 Warning       PolicyViolation  Anomalous             \n",
              "568292 Warning       PolicyViolation  Suspicious            \n",
              "568294 Warning       PolicyViolation  Anomalous             \n",
              "568295 Warning       PolicyViolation  Anomalous             \n",
              "568296 Warning       PolicyViolation  Suspicious            \n",
              "568297 Warning       NormalOperation  Suspicious            \n",
              "568298 Warning       PolicyViolation  Anomalous             \n",
              "568299 Warning       PolicyViolation  Anomalous             \n",
              "568300 Warning       PolicyViolation  Anomalous             \n",
              "568301 Warning       PolicyViolation  Suspicious            \n",
              "568302 Warning       PolicyViolation  Anomalous             \n",
              "568303 Informational PolicyViolation  Anomalous             \n",
              "568304 Warning       PolicyViolation  Anomalous             \n",
              "568306 Warning       NormalOperation  Suspicious            \n",
              "568307 Warning       PolicyViolation  Anomalous             \n",
              "568309 Warning       PolicyViolation  Suspicious            \n",
              "       DataTransferVolume_IN DataTransferVolume_OUT TransactionsPerSession\n",
              "1      131262728             146592187              32537                 \n",
              "2      129798635             146506072              33484                 \n",
              "3      126259145             220211406              47327                 \n",
              "4      136336338             151520787              33754                 \n",
              "7      132637143             231454438              50430                 \n",
              "8      122106310             157851266              35295                 \n",
              "10     132955595             169043721              36807                 \n",
              "11     136104646              87736117              20753                 \n",
              "13     123039649             176740931              38990                 \n",
              "14     133622246             150275462              35403                 \n",
              "15     126884975             166775522              37904                 \n",
              "16     135615262             168038648              38052                 \n",
              "17     124999676             164795711              36105                 \n",
              "18     170443804              86891942              25659                 \n",
              "19     138186801             181429755              41428                 \n",
              "20     138492552             124747760              28611                 \n",
              "21     186407456              74103696              21202                 \n",
              "22     140293378             162375513              37242                 \n",
              "23      99855034             108838578              24985                 \n",
              "24     133823445              92799918              20590                 \n",
              "25     136808916             121180593              28032                 \n",
              "26     141302847             174349272              38528                 \n",
              "27     127087514             151191682              32887                 \n",
              "28     130064300             197242266              43512                 \n",
              "29     120070103             138865260              29784                 \n",
              "30     135113597             176936941              40322                 \n",
              "31     140520073             164548949              38044                 \n",
              "32     126489855             163185458              35180                 \n",
              "33     130178561             149654144              34215                 \n",
              "34     131127300             102013633              24021                 \n",
              "⋮      ⋮                     ⋮                      ⋮                     \n",
              "568272 125753612             172578315              39869                 \n",
              "568273 127388653             129893722              28664                 \n",
              "568274 148239673             106196569              25870                 \n",
              "568275 140573354             102658108              24683                 \n",
              "568277 128979670             150626991              35075                 \n",
              "568279 187888860              66135028              24521                 \n",
              "568282 122247058             122815595              27136                 \n",
              "568283 132947398             143879014              32469                 \n",
              "568284 127943207             170140709              37818                 \n",
              "568285 130457718             178263493              39525                 \n",
              "568286 129076779             103510630              23715                 \n",
              "568287 121647186             169500427              40308                 \n",
              "568288 128195730             141435571              31031                 \n",
              "568290 127614303             158493959              35769                 \n",
              "568291 136854273             160548013              34344                 \n",
              "568292 136489537             156894706              35071                 \n",
              "568294 131119024              99212753              23870                 \n",
              "568295 133088945             139779996              31190                 \n",
              "568296 111907549             135370166              32557                 \n",
              "568297 128214934             159760525              34445                 \n",
              "568298 168055717              77741198              23469                 \n",
              "568299 136396982             133812730              31237                 \n",
              "568300 132101970             130153664              28302                 \n",
              "568301 127521805             160437472              34989                 \n",
              "568302 129043103              94017250              25422                 \n",
              "568303 139033224             142817499              32921                 \n",
              "568304 121755051             147671619              32834                 \n",
              "568306 129754208             160965024              36429                 \n",
              "568307 143067879             103605084              25232                 \n",
              "568309 139332066             168576355              35973                 \n",
              "       NetworkAccessFrequency UserActivityLevel SessionIntegrityCheck\n",
              "1      22456                  5                  TRUE                \n",
              "2      28572                  6                 FALSE                \n",
              "3      34350                  6                 FALSE                \n",
              "4      29778                  5                  TRUE                \n",
              "7      44077                  6                  TRUE                \n",
              "8      43275                  5                  TRUE                \n",
              "10     26580                  4                 FALSE                \n",
              "11     38927                  5                  TRUE                \n",
              "13     30978                  5                  TRUE                \n",
              "14     39166                  6                 FALSE                \n",
              "15     28934                  6                  TRUE                \n",
              "16     33144                  6                 FALSE                \n",
              "17     19275                  5                 FALSE                \n",
              "18     26041                  5                 FALSE                \n",
              "19     31458                  7                 FALSE                \n",
              "20     32366                  5                 FALSE                \n",
              "21     35976                  3                  TRUE                \n",
              "22     46835                  6                  TRUE                \n",
              "23     11182                  6                 FALSE                \n",
              "24     39862                  4                 FALSE                \n",
              "25     30885                  6                  TRUE                \n",
              "26     36114                  5                  TRUE                \n",
              "27     38531                  5                 FALSE                \n",
              "28     29047                  6                  TRUE                \n",
              "29     38420                  4                  TRUE                \n",
              "30     48848                  7                 FALSE                \n",
              "31     20924                  6                 FALSE                \n",
              "32     37947                  5                 FALSE                \n",
              "33     21964                  6                  TRUE                \n",
              "34     18484                  6                 FALSE                \n",
              "⋮      ⋮                      ⋮                 ⋮                    \n",
              "568272 43328                  7                 FALSE                \n",
              "568273 33763                  5                  TRUE                \n",
              "568274 26196                  4                  TRUE                \n",
              "568275 35495                  4                 FALSE                \n",
              "568277 31156                  6                 FALSE                \n",
              "568279 33651                  5                 FALSE                \n",
              "568282 16862                  5                  TRUE                \n",
              "568283 33858                  5                 FALSE                \n",
              "568284 41229                  5                  TRUE                \n",
              "568285 39670                  5                 FALSE                \n",
              "568286 40762                  4                  TRUE                \n",
              "568287 22681                  8                 FALSE                \n",
              "568288 39269                  5                  TRUE                \n",
              "568290 47625                  6                 FALSE                \n",
              "568291 39497                  5                  TRUE                \n",
              "568292 42168                  5                  TRUE                \n",
              "568294 33724                  6                  TRUE                \n",
              "568295 20859                  5                  TRUE                \n",
              "568296 32655                  7                  TRUE                \n",
              "568297 29551                  5                  TRUE                \n",
              "568298 33821                  4                 FALSE                \n",
              "568299 32442                  6                  TRUE                \n",
              "568300 23057                  4                 FALSE                \n",
              "568301 49239                  5                  TRUE                \n",
              "568302 34122                  6                  TRUE                \n",
              "568303 30237                  6                  TRUE                \n",
              "568304 26165                  6                  TRUE                \n",
              "568306 42301                  6                 FALSE                \n",
              "568307 38172                  4                  TRUE                \n",
              "568309 44342                  5                 FALSE                \n",
              "       ResourceUtilizationFlag SecurityRiskLevel ResponseTime Classification\n",
              "1      FALSE                   132988661         31.62909     Normal        \n",
              "2      FALSE                   143157300         32.46967     Normal        \n",
              "3      FALSE                   119600509         28.10228     Normal        \n",
              "4      FALSE                   185064385         37.31185     Normal        \n",
              "7      FALSE                   166919341         19.33138     Normal        \n",
              "8       TRUE                   167271981         26.19198     Normal        \n",
              "10      TRUE                   120899234         39.15386     Normal        \n",
              "11     FALSE                   179649744         39.77326     Normal        \n",
              "13      TRUE                   217460259         23.64295     Normal        \n",
              "14     FALSE                   157309632         33.20111     Normal        \n",
              "15     FALSE                   175205081         38.06447     Normal        \n",
              "16     FALSE                   124567545         36.10613     Normal        \n",
              "17     FALSE                   159280994         26.18167     Normal        \n",
              "18     FALSE                   137400979         37.39324     Normal        \n",
              "19     FALSE                   187793890         32.25498     Normal        \n",
              "20     FALSE                   135798073         40.03785     Normal        \n",
              "21     FALSE                   157381705         32.20842     Malicious     \n",
              "22     FALSE                   158517007         25.00158     Normal        \n",
              "23      TRUE                   163988580         30.90774     Normal        \n",
              "24     FALSE                   171249552         24.36459     Normal        \n",
              "25     FALSE                   124364496         33.36196     Normal        \n",
              "26     FALSE                   163542870         28.05355     Normal        \n",
              "27     FALSE                   140755015         23.96697     Normal        \n",
              "28     FALSE                   151189322         25.92575     Normal        \n",
              "29      TRUE                   162855062         25.63166     Normal        \n",
              "30     FALSE                   154343444         39.23711     Normal        \n",
              "31     FALSE                   177221094         26.49790     Normal        \n",
              "32      TRUE                   176336902         33.11874     Normal        \n",
              "33     FALSE                   123632597         37.23823     Normal        \n",
              "34     FALSE                   136926891         22.52605     Normal        \n",
              "⋮      ⋮                       ⋮                 ⋮            ⋮             \n",
              "568272 FALSE                   154555847         35.53061     Normal        \n",
              "568273 FALSE                   179055921         29.72750     Normal        \n",
              "568274 FALSE                   175544761         31.40496     Malicious     \n",
              "568275 FALSE                   183817571         21.64553     Normal        \n",
              "568277 FALSE                   106800025         24.43944     Normal        \n",
              "568279 FALSE                   159555938         19.30803     Malicious     \n",
              "568282 FALSE                   155400931         22.34403     Normal        \n",
              "568283 FALSE                   189369120         31.81083     Normal        \n",
              "568284 FALSE                   148716549         34.28359     Normal        \n",
              "568285 FALSE                   166664369         32.05912     Normal        \n",
              "568286 FALSE                    93378392         30.02313     Normal        \n",
              "568287 FALSE                   150205492         30.49889     Normal        \n",
              "568288 FALSE                   196035065         31.95864     Normal        \n",
              "568290 FALSE                   140821485         26.63495     Normal        \n",
              "568291 FALSE                   181443660         30.09706     Normal        \n",
              "568292 FALSE                   176806453         17.55282     Normal        \n",
              "568294 FALSE                   154468473         17.94494     Normal        \n",
              "568295 FALSE                   175432665         20.02689     Normal        \n",
              "568296 FALSE                   212921838         29.50488     Malicious     \n",
              "568297 FALSE                   112486564         34.12478     Normal        \n",
              "568298 FALSE                   166017459         27.15153     Normal        \n",
              "568299 FALSE                   161767923         22.52978     Normal        \n",
              "568300 FALSE                   157002021         25.18742     Normal        \n",
              "568301 FALSE                   119641089         34.35712     Normal        \n",
              "568302 FALSE                   128103735         22.73311     Normal        \n",
              "568303 FALSE                   145628423         35.79535     Normal        \n",
              "568304 FALSE                   135752747         25.74241     Normal        \n",
              "568306 FALSE                   119894745         37.38625     Normal        \n",
              "568307 FALSE                   160824730         34.53692     Normal        \n",
              "568309 FALSE                   110293766         23.37158     Normal        "
            ]
          },
          "metadata": {}
        },
        {
          "output_type": "display_data",
          "data": {
            "text/plain": [
              "       AlertCategory           NetworkEventType  NetworkInteractionType\n",
              " Alert        : 29004   NormalOperation: 40242   Anomalous :215275     \n",
              " Informational: 32748   PolicyViolation:433641   Critical  : 26529     \n",
              " Warning      :432933   ThreatDetected : 20802   Elevated  : 29081     \n",
              "                                                 Others    :   940     \n",
              "                                                 Suspicious:222860     \n",
              "                                                                       \n",
              " DataTransferVolume_IN DataTransferVolume_OUT TransactionsPerSession\n",
              " Min.   :  9437211     Min.   :     1024      Min.   : 1024         \n",
              " 1st Qu.:126853599     1st Qu.:118139173      1st Qu.:27652         \n",
              " Median :130858941     Median :143570714      Median :32268         \n",
              " Mean   :132146412     Mean   :142785494      Mean   :32471         \n",
              " 3rd Qu.:135091668     3rd Qu.:166935696      3rd Qu.:37100         \n",
              " Max.   :270946038     Max.   :300000000      Max.   :65535         \n",
              " NetworkAccessFrequency UserActivityLevel SessionIntegrityCheck\n",
              " Min.   : 1362          Min.   : 1.000    Mode :logical        \n",
              " 1st Qu.:28998          1st Qu.: 5.000    FALSE:247640         \n",
              " Median :33668          Median : 5.000    TRUE :247045         \n",
              " Mean   :33665          Mean   : 5.409                         \n",
              " 3rd Qu.:38328          3rd Qu.: 6.000                         \n",
              " Max.   :65535          Max.   :10.000                         \n",
              " ResourceUtilizationFlag SecurityRiskLevel    ResponseTime      \n",
              " Mode :logical           Min.   :  1000000   Min.   :  0.00231  \n",
              " FALSE:419713            1st Qu.:130776419   1st Qu.: 25.30983  \n",
              " TRUE :74972             Median :151897250   Median : 29.48917  \n",
              "                         Mean   :151928702   Mean   : 29.58031  \n",
              "                         3rd Qu.:173084252   3rd Qu.: 33.67622  \n",
              "                         Max.   :295330428   Max.   :149.97429  \n",
              "   Classification  \n",
              " Malicious: 19824  \n",
              " Normal   :474861  \n",
              "                   \n",
              "                   \n",
              "                   \n",
              "                   "
            ]
          },
          "metadata": {}
        },
        {
          "output_type": "display_data",
          "data": {
            "text/html": [
              "<table class=\"dataframe\">\n",
              "<caption>A data.frame: 2 × 1</caption>\n",
              "<thead>\n",
              "\t<tr><th scope=col>.</th></tr>\n",
              "\t<tr><th scope=col>&lt;chr&gt;</th></tr>\n",
              "</thead>\n",
              "<tbody>\n",
              "\t<tr><td>Logistic Elastic-Net Regression</td></tr>\n",
              "\t<tr><td>Random Forest                  </td></tr>\n",
              "</tbody>\n",
              "</table>\n"
            ],
            "text/markdown": "\nA data.frame: 2 × 1\n\n| . &lt;chr&gt; |\n|---|\n| Logistic Elastic-Net Regression |\n| Random Forest                   |\n\n",
            "text/latex": "A data.frame: 2 × 1\n\\begin{tabular}{l}\n .\\\\\n <chr>\\\\\n\\hline\n\t Logistic Elastic-Net Regression\\\\\n\t Random Forest                  \\\\\n\\end{tabular}\n",
            "text/plain": [
              "  .                              \n",
              "1 Logistic Elastic-Net Regression\n",
              "2 Random Forest                  "
            ]
          },
          "metadata": {}
        }
      ],
      "source": [
        "mydata = read.csv(\"HealthCareData_2024.csv\", stringsAsFactors = TRUE)\n",
        "dim(mydata)\n",
        "# ```\n",
        "\n",
        "## ------------------------------------------------------------------\n",
        "#        Part 1 – General data preparation and cleaning (b)\n",
        "## ------------------------------------------------------------------\n",
        "# ```{r}\n",
        "## i. Clean the dataset based on the feedback received for Assignment 1.\n",
        "summary(mydata)\n",
        "\n",
        "mydata$AlertCategory = fct_collapse(mydata$AlertCategory,\n",
        "  Informational = c(\"Informational\", \"Info\"))\n",
        "mydata$NetworkEventType = fct_collapse(mydata$NetworkEventType,\n",
        "  PolicyViolation = c(\"Policy_Violation\", \"PolicyViolation\"))\n",
        "\n",
        "mydata$NetworkAccessFrequency[mydata$NetworkAccessFrequency == -1] = NA\n",
        "\n",
        "mydata$ResponseTime[mydata$ResponseTime > 150 ] = NA\n",
        "\n",
        "summary(mydata)\n",
        "# ```\n",
        "\n",
        "# ```{r}\n",
        "## ii. merge the ‘Regular’ and ‘Unknown’ categories together.\n",
        "mydata$NetworkInteractionType = fct_collapse(mydata$NetworkInteractionType,\n",
        "                                  Others = c(\"Regular\", \"Unknown\"))\n",
        "\n",
        "summary(mydata)\n",
        "# ```\n",
        "\n",
        "# ```{r}\n",
        "## iii. Standardising dataset.\n",
        "# Delete the System Access Rate as this column have too many NA data and it will affect\n",
        "dat.cleaned = na.omit(mydata[,-9]);dat.cleaned\n",
        "summary(dat.cleaned)\n",
        "# ```\n",
        "\n",
        "## ------------------------------------------------------------------\n",
        "#        Part 1 – General data preparation and cleaning (c)\n",
        "## ------------------------------------------------------------------\n",
        "# ```{r}\n",
        "# Separate samples of normal and malicious events\n",
        "dat.class0 = dat.cleaned %>% filter(Classification == \"Normal\") # normal\n",
        "dat.class1 = dat.cleaned %>% filter(Classification == \"Malicious\") # malicious\n",
        "# Randomly select 9600 non-malicious and 400 malicious samples using your student\n",
        "# ID, then combine them to form a working data set\n",
        "set.seed(10582390)\n",
        "rows.train0 = sample(1:nrow(dat.class0), size = 9600, replace = FALSE)\n",
        "rows.train1 = sample(1:nrow(dat.class1), size = 400, replace = FALSE)\n",
        "# Your 10000 ‘unbalanced’ training samples\n",
        "train.class0 = dat.class0[rows.train0,] # Non-malicious samples\n",
        "train.class1 = dat.class1[rows.train1,] # Malicious samples\n",
        "mydata.ub.train = rbind(train.class0, train.class1)\n",
        "# Your 19200 ‘balanced’ training samples, i.e. 9600 normal and malicious samples each.\n",
        "set.seed(10582390)\n",
        "train.class1_2 = train.class1[sample(1:nrow(train.class1), size = 9600,\n",
        "  replace = TRUE),]\n",
        "mydata.b.train = rbind(train.class0, train.class1_2)\n",
        "# Your testing samples\n",
        "test.class0 = dat.class0[-rows.train0,]\n",
        "test.class1 = dat.class1[-rows.train1,]\n",
        "mydata.test = rbind(test.class0, test.class1)\n",
        "# ```\n",
        "\n",
        "## ------------------------------------------------------------------\n",
        "#   Part 2 – Compare the performances of different ML algorithms (a)\n",
        "## ------------------------------------------------------------------\n",
        "# ```{r}\n",
        "set.seed(10582390)\n",
        "models.list1 = c(\"Logistic Ridge Regression\",\n",
        "  \"Logistic LASSO Regression\",\n",
        "  \"Logistic Elastic-Net Regression\")\n",
        "models.list2 = c(\"Classification Tree\",\n",
        "  \"Bagging Tree\",\n",
        "  \"Random Forest\")\n",
        "myModels = c(sample(models.list1, size = 1),\n",
        "  sample(models.list2, size = 1))\n",
        "myModels %>% data.frame"
      ]
    },
    {
      "cell_type": "code",
      "execution_count": null,
      "metadata": {
        "id": "ULYx1tgE3qEx",
        "colab": {
          "base_uri": "https://localhost:8080/",
          "height": 549
        },
        "outputId": "e6fb8d51-9615-4c62-d7b3-9fe6e9def7f3"
      },
      "outputs": [
        {
          "output_type": "display_data",
          "data": {
            "text/html": [
              "<table class=\"dataframe\">\n",
              "<caption>A data.frame: 1 × 2</caption>\n",
              "<thead>\n",
              "\t<tr><th></th><th scope=col>alpha</th><th scope=col>lambda</th></tr>\n",
              "\t<tr><th></th><th scope=col>&lt;dbl&gt;</th><th scope=col>&lt;dbl&gt;</th></tr>\n",
              "</thead>\n",
              "<tbody>\n",
              "\t<tr><th scope=row>1601</th><td>0.9</td><td>0.001</td></tr>\n",
              "</tbody>\n",
              "</table>\n"
            ],
            "text/markdown": "\nA data.frame: 1 × 2\n\n| <!--/--> | alpha &lt;dbl&gt; | lambda &lt;dbl&gt; |\n|---|---|---|\n| 1601 | 0.9 | 0.001 |\n\n",
            "text/latex": "A data.frame: 1 × 2\n\\begin{tabular}{r|ll}\n  & alpha & lambda\\\\\n  & <dbl> & <dbl>\\\\\n\\hline\n\t1601 & 0.9 & 0.001\\\\\n\\end{tabular}\n",
            "text/plain": [
              "     alpha lambda\n",
              "1601 0.9   0.001 "
            ]
          },
          "metadata": {}
        },
        {
          "output_type": "display_data",
          "data": {
            "text/plain": [
              "plot without title"
            ],
            "image/png": "[encoded data removed]"
          },
          "metadata": {
            "image/png": {
              "width": 420,
              "height": 420
            }
          }
        }
      ],
      "source": [
        "#A sequence of lambdas\n",
        "#install.packages(\"glmnet\")\n",
        "lambdas = 10^seq(-3, 3, length = 200)\n",
        "alphas = seq(0.1,0.9,by=0.1)\n",
        "\n",
        "set.seed(10582390)\n",
        "mod.ridge.b = train(\n",
        "  Classification~.,\n",
        "  data = mydata.b.train,\n",
        "  method = \"glmnet\",\n",
        "  preProcess = NULL,\n",
        "  trControl = trainControl(\"repeatedcv\", number = 10, repeats = 2),\n",
        "  tuneGrid = expand.grid(alpha = alphas, lambda = lambdas)\n",
        ")\n",
        "plot(mod.ridge.b)\n",
        "mod.ridge.b$bestTune"
      ]
    },
    {
      "cell_type": "code",
      "execution_count": null,
      "metadata": {
        "id": "ARN02UDj3sHj",
        "colab": {
          "base_uri": "https://localhost:8080/",
          "height": 549
        },
        "outputId": "1a9be85d-d545-4436-cc7e-fd624d13e94a"
      },
      "outputs": [
        {
          "output_type": "display_data",
          "data": {
            "text/html": [
              "<table class=\"dataframe\">\n",
              "<caption>A data.frame: 1 × 2</caption>\n",
              "<thead>\n",
              "\t<tr><th></th><th scope=col>alpha</th><th scope=col>lambda</th></tr>\n",
              "\t<tr><th></th><th scope=col>&lt;dbl&gt;</th><th scope=col>&lt;dbl&gt;</th></tr>\n",
              "</thead>\n",
              "<tbody>\n",
              "\t<tr><th scope=row>51</th><td>0.1</td><td>0.03217642</td></tr>\n",
              "</tbody>\n",
              "</table>\n"
            ],
            "text/markdown": "\nA data.frame: 1 × 2\n\n| <!--/--> | alpha &lt;dbl&gt; | lambda &lt;dbl&gt; |\n|---|---|---|\n| 51 | 0.1 | 0.03217642 |\n\n",
            "text/latex": "A data.frame: 1 × 2\n\\begin{tabular}{r|ll}\n  & alpha & lambda\\\\\n  & <dbl> & <dbl>\\\\\n\\hline\n\t51 & 0.1 & 0.03217642\\\\\n\\end{tabular}\n",
            "text/plain": [
              "   alpha lambda    \n",
              "51 0.1   0.03217642"
            ]
          },
          "metadata": {}
        },
        {
          "output_type": "display_data",
          "data": {
            "text/plain": [
              "plot without title"
            ],
            "image/png": "[encoded data removed]"
          },
          "metadata": {
            "image/png": {
              "width": 420,
              "height": 420
            }
          }
        }
      ],
      "source": [
        "set.seed(10582390)\n",
        "mod.ridge.ub = train(\n",
        "  Classification~.,\n",
        "  data = mydata.ub.train,\n",
        "  method = \"glmnet\",\n",
        "  preProcess = NULL,\n",
        "  trControl = trainControl(\"repeatedcv\", number = 10, repeats = 2),\n",
        "  tuneGrid = expand.grid(alpha = alphas, lambda = lambdas)\n",
        ")\n",
        "plot(mod.ridge.ub)\n",
        "mod.ridge.ub$bestTune"
      ]
    },
    {
      "cell_type": "code",
      "execution_count": null,
      "metadata": {
        "id": "Izeu8FKq3s5C",
        "colab": {
          "base_uri": "https://localhost:8080/",
          "height": 731
        },
        "outputId": "1a0e61be-c2c8-4afa-8df9-fd6b5b75a83d"
      },
      "outputs": [
        {
          "output_type": "display_data",
          "data": {
            "text/plain": [
              "18 x 1 sparse Matrix of class \"dgCMatrix\"\n",
              "                                                   s1\n",
              "(Intercept)                      -16.9929797340020450\n",
              "AlertCategoryInformational        -0.1686157797775745\n",
              "AlertCategoryWarning               0.3228153879381522\n",
              "NetworkEventTypePolicyViolation    0.2735971011847944\n",
              "NetworkEventTypeThreatDetected    -0.1235332388609571\n",
              "NetworkInteractionTypeCritical     1.6688148549592485\n",
              "NetworkInteractionTypeElevated    -0.7735092029396784\n",
              "NetworkInteractionTypeOthers       6.8854245171157098\n",
              "NetworkInteractionTypeSuspicious  -0.7920960123131332\n",
              "DataTransferVolume_IN              0.0000000628911897\n",
              "DataTransferVolume_OUT             0.0000001856579754\n",
              "TransactionsPerSession            -0.0006090452329123\n",
              "NetworkAccessFrequency            -0.0000081689117900\n",
              "UserActivityLevel                  0.7825392650601120\n",
              "SessionIntegrityCheckTRUE          0.0986287994389562\n",
              "ResourceUtilizationFlagTRUE       -0.9927440254230818\n",
              "SecurityRiskLevel                  0.0000000009560236\n",
              "ResponseTime                      -0.0043418209234517"
            ]
          },
          "metadata": {}
        },
        {
          "output_type": "display_data",
          "data": {
            "text/plain": [
              "18 x 1 sparse Matrix of class \"dgCMatrix\"\n",
              "                                                s1\n",
              "(Intercept)                       2.30239699306262\n",
              "AlertCategoryInformational        .               \n",
              "AlertCategoryWarning              .               \n",
              "NetworkEventTypePolicyViolation   .               \n",
              "NetworkEventTypeThreatDetected   -0.04659962552638\n",
              "NetworkInteractionTypeCritical    0.52003505280924\n",
              "NetworkInteractionTypeElevated    .               \n",
              "NetworkInteractionTypeOthers      0.45576489637785\n",
              "NetworkInteractionTypeSuspicious -0.21234798038237\n",
              "DataTransferVolume_IN            -0.00000001382787\n",
              "DataTransferVolume_OUT            0.00000001797562\n",
              "TransactionsPerSession            0.00003759483024\n",
              "NetworkAccessFrequency            .               \n",
              "UserActivityLevel                -0.12066389528888\n",
              "SessionIntegrityCheckTRUE         .               \n",
              "ResourceUtilizationFlagTRUE      -0.32644534304904\n",
              "SecurityRiskLevel                 .               \n",
              "ResponseTime                      .               "
            ]
          },
          "metadata": {}
        }
      ],
      "source": [
        "coef(mod.ridge.b$finalModel, mod.ridge.b$bestTune$lambda)\n",
        "coef(mod.ridge.ub$finalModel, mod.ridge.ub$bestTune$lambda)"
      ]
    },
    {
      "cell_type": "code",
      "execution_count": null,
      "metadata": {
        "id": "V_o9Bx1O3vif",
        "colab": {
          "base_uri": "https://localhost:8080/",
          "height": 160
        },
        "outputId": "4b93cfb9-af81-46b3-b2fb-a5df75d883a1"
      },
      "outputs": [
        {
          "output_type": "display_data",
          "data": {
            "text/plain": [
              "           \n",
              "            Malicious Normal\n",
              "  Malicious     0.888  0.135\n",
              "  Normal        0.112  0.865"
            ]
          },
          "metadata": {}
        },
        {
          "output_type": "display_data",
          "data": {
            "text/plain": [
              "           \n",
              "            Malicious Normal\n",
              "  Malicious         0      0\n",
              "  Normal            1      1"
            ]
          },
          "metadata": {}
        }
      ],
      "source": [
        "pred.class.b = predict(mod.ridge.b,new=mydata.test)\n",
        "pred.class.ub = predict(mod.ridge.ub,new=mydata.test)\n",
        "\n",
        "cf.b = table(relevel(pred.class.b, ref=\"Malicious\"),\n",
        "             relevel(mydata.test$Classification, ref=\"Malicious\"))\n",
        "cf.ub = table(relevel(pred.class.ub, ref=\"Malicious\"),\n",
        "             relevel(mydata.test$Classification, ref=\"Malicious\"))\n",
        "\n",
        "prop.b = round(prop.table(cf.b, 2), digits = 3);prop.b\n",
        "prop.ub = round(prop.table(cf.ub, 2), digits = 3);prop.ub"
      ]
    },
    {
      "cell_type": "code",
      "execution_count": null,
      "metadata": {
        "id": "lqbZ1cO33xpA",
        "colab": {
          "base_uri": "https://localhost:8080/",
          "height": 1000
        },
        "outputId": "4d653a78-ed57-4ea5-9bb5-a5dd62f9319f"
      },
      "outputs": [
        {
          "output_type": "display_data",
          "data": {
            "text/plain": [
              "Confusion Matrix and Statistics\n",
              "\n",
              "           \n",
              "            Malicious Normal\n",
              "  Malicious     17257  62713\n",
              "  Normal         2167 402548\n",
              "                                             \n",
              "               Accuracy : 0.8661             \n",
              "                 95% CI : (0.8652, 0.8671)   \n",
              "    No Information Rate : 0.9599             \n",
              "    P-Value [Acc > NIR] : 1                  \n",
              "                                             \n",
              "                  Kappa : 0.3022             \n",
              "                                             \n",
              " Mcnemar's Test P-Value : <0.0000000000000002\n",
              "                                             \n",
              "            Sensitivity : 0.88844            \n",
              "            Specificity : 0.86521            \n",
              "         Pos Pred Value : 0.21579            \n",
              "         Neg Pred Value : 0.99465            \n",
              "              Precision : 0.21579            \n",
              "                 Recall : 0.88844            \n",
              "                     F1 : 0.34724            \n",
              "             Prevalence : 0.04008            \n",
              "         Detection Rate : 0.03560            \n",
              "   Detection Prevalence : 0.16499            \n",
              "      Balanced Accuracy : 0.87682            \n",
              "                                             \n",
              "       'Positive' Class : Malicious          \n",
              "                                             "
            ]
          },
          "metadata": {}
        },
        {
          "output_type": "display_data",
          "data": {
            "text/plain": [
              "Confusion Matrix and Statistics\n",
              "\n",
              "           \n",
              "            Malicious Normal\n",
              "  Malicious         5      7\n",
              "  Normal        19419 465254\n",
              "                                             \n",
              "               Accuracy : 0.9599             \n",
              "                 95% CI : (0.9594, 0.9605)   \n",
              "    No Information Rate : 0.9599             \n",
              "    P-Value [Acc > NIR] : 0.5078             \n",
              "                                             \n",
              "                  Kappa : 0.0005             \n",
              "                                             \n",
              " Mcnemar's Test P-Value : <0.0000000000000002\n",
              "                                             \n",
              "            Sensitivity : 0.00025741         \n",
              "            Specificity : 0.99998495         \n",
              "         Pos Pred Value : 0.41666667         \n",
              "         Neg Pred Value : 0.95993381         \n",
              "              Precision : 0.41666667         \n",
              "                 Recall : 0.00025741         \n",
              "                     F1 : 0.00051451         \n",
              "             Prevalence : 0.04007551         \n",
              "         Detection Rate : 0.00001032         \n",
              "   Detection Prevalence : 0.00002476         \n",
              "      Balanced Accuracy : 0.50012118         \n",
              "                                             \n",
              "       'Positive' Class : Malicious          \n",
              "                                             "
            ]
          },
          "metadata": {}
        }
      ],
      "source": [
        "confusionMatrix(cf.b,mode=\"everything\")\n",
        "confusionMatrix(cf.ub,mode=\"everything\")"
      ]
    },
    {
      "cell_type": "markdown",
      "metadata": {
        "id": "ST1mh5S234Lz"
      },
      "source": [
        "## ------------------------------------------------------------------\n",
        "#                   Part 2 – RANDOM FOREST\n",
        "## ------------------------------------------------------------------"
      ]
    },
    {
      "cell_type": "code",
      "execution_count": null,
      "metadata": {
        "id": "a-r6CDB636Th"
      },
      "outputs": [],
      "source": [
        "mod.rf.b = ranger(\n",
        "  Classification~.,\n",
        "  data = mydata.b.train,\n",
        "  num.trees = 500,\n",
        "  mtry = 3,\n",
        "  respect.unordered.factors = TRUE,\n",
        "  seed = 10582390,\n",
        "  importance = \"impurity\"\n",
        ")\n",
        "mod.rf.ub = ranger(\n",
        "  Classification~.,\n",
        "  data = mydata.ub.train,\n",
        "  num.trees = 500,\n",
        "  mtry = 3,\n",
        "  respect.unordered.factors = TRUE,\n",
        "  seed = 10582390,\n",
        "  importance = \"impurity\"\n",
        ")"
      ]
    },
    {
      "cell_type": "code",
      "execution_count": null,
      "metadata": {
        "id": "5fsEJxfL39sz",
        "colab": {
          "base_uri": "https://localhost:8080/",
          "height": 589
        },
        "outputId": "53358da9-e236-44c6-80b6-bac12c09cdb7"
      },
      "outputs": [
        {
          "output_type": "display_data",
          "data": {
            "text/plain": [
              "Ranger result\n",
              "\n",
              "Call:\n",
              " ranger(Classification ~ ., data = mydata.b.train, num.trees = 500,      mtry = 3, respect.unordered.factors = TRUE, seed = 10582390,      importance = \"impurity\") \n",
              "\n",
              "Type:                             Classification \n",
              "Number of trees:                  500 \n",
              "Sample size:                      19200 \n",
              "Number of independent variables:  12 \n",
              "Mtry:                             3 \n",
              "Target node size:                 1 \n",
              "Variable importance mode:         impurity \n",
              "Splitrule:                        gini \n",
              "OOB prediction error:             0.70 % "
            ]
          },
          "metadata": {}
        },
        {
          "output_type": "display_data",
          "data": {
            "text/plain": [
              "Ranger result\n",
              "\n",
              "Call:\n",
              " ranger(Classification ~ ., data = mydata.ub.train, num.trees = 500,      mtry = 3, respect.unordered.factors = TRUE, seed = 10582390,      importance = \"impurity\") \n",
              "\n",
              "Type:                             Classification \n",
              "Number of trees:                  500 \n",
              "Sample size:                      10000 \n",
              "Number of independent variables:  12 \n",
              "Mtry:                             3 \n",
              "Target node size:                 1 \n",
              "Variable importance mode:         impurity \n",
              "Splitrule:                        gini \n",
              "OOB prediction error:             4.12 % "
            ]
          },
          "metadata": {}
        }
      ],
      "source": [
        "mod.rf.b\n",
        "mod.rf.ub"
      ]
    },
    {
      "cell_type": "code",
      "execution_count": null,
      "metadata": {
        "id": "h0SUlGxx3_M7",
        "colab": {
          "base_uri": "https://localhost:8080/",
          "height": 251
        },
        "outputId": "65a2a952-a612-4fc2-955a-daa46821c0de"
      },
      "outputs": [
        {
          "output_type": "stream",
          "name": "stdout",
          "text": [
            "Aggregating predictions.. Progress: 88%. Estimated remaining time: 4 seconds.\n"
          ]
        },
        {
          "output_type": "display_data",
          "data": {
            "text/plain": [
              "Ranger prediction\n",
              "\n",
              "Type:                             Classification \n",
              "Sample size:                      484685 \n",
              "Number of independent variables:  12 "
            ]
          },
          "metadata": {}
        },
        {
          "output_type": "stream",
          "name": "stdout",
          "text": [
            "Aggregating predictions.. Progress: 93%. Estimated remaining time: 2 seconds.\n"
          ]
        },
        {
          "output_type": "display_data",
          "data": {
            "text/plain": [
              "Ranger prediction\n",
              "\n",
              "Type:                             Classification \n",
              "Sample size:                      484685 \n",
              "Number of independent variables:  12 "
            ]
          },
          "metadata": {}
        }
      ],
      "source": [
        "pred.mod.rf.b = predict(mod.rf.b, data = mydata.test);pred.mod.rf.b\n",
        "pred.mod.rf.ub = predict(mod.rf.ub, data = mydata.test);pred.mod.rf.ub"
      ]
    },
    {
      "cell_type": "code",
      "execution_count": null,
      "metadata": {
        "id": "_TfOWeC44FC9",
        "colab": {
          "base_uri": "https://localhost:8080/",
          "height": 1000
        },
        "outputId": "2bc96a93-40c9-4265-b8d3-1096112a49d7"
      },
      "outputs": [
        {
          "output_type": "display_data",
          "data": {
            "text/plain": [
              "Confusion Matrix and Statistics\n",
              "\n",
              "           Reference\n",
              "Prediction  Malicious Normal\n",
              "  Malicious      2610   6227\n",
              "  Normal        16814 459034\n",
              "                                             \n",
              "               Accuracy : 0.9525             \n",
              "                 95% CI : (0.9519, 0.9531)   \n",
              "    No Information Rate : 0.9599             \n",
              "    P-Value [Acc > NIR] : 1                  \n",
              "                                             \n",
              "                  Kappa : 0.1637             \n",
              "                                             \n",
              " Mcnemar's Test P-Value : <0.0000000000000002\n",
              "                                             \n",
              "            Sensitivity : 0.134370           \n",
              "            Specificity : 0.986616           \n",
              "         Pos Pred Value : 0.295349           \n",
              "         Neg Pred Value : 0.964665           \n",
              "              Precision : 0.295349           \n",
              "                 Recall : 0.134370           \n",
              "                     F1 : 0.184707           \n",
              "             Prevalence : 0.040076           \n",
              "         Detection Rate : 0.005385           \n",
              "   Detection Prevalence : 0.018232           \n",
              "      Balanced Accuracy : 0.560493           \n",
              "                                             \n",
              "       'Positive' Class : Malicious          \n",
              "                                             "
            ]
          },
          "metadata": {}
        },
        {
          "output_type": "display_data",
          "data": {
            "text/plain": [
              "Confusion Matrix and Statistics\n",
              "\n",
              "           Reference\n",
              "Prediction  Malicious Normal\n",
              "  Malicious       402    989\n",
              "  Normal        19022 464272\n",
              "                                             \n",
              "               Accuracy : 0.9587             \n",
              "                 95% CI : (0.9581, 0.9593)   \n",
              "    No Information Rate : 0.9599             \n",
              "    P-Value [Acc > NIR] : 1                  \n",
              "                                             \n",
              "                  Kappa : 0.0334             \n",
              "                                             \n",
              " Mcnemar's Test P-Value : <0.0000000000000002\n",
              "                                             \n",
              "            Sensitivity : 0.0206960          \n",
              "            Specificity : 0.9978743          \n",
              "         Pos Pred Value : 0.2890007          \n",
              "         Neg Pred Value : 0.9606409          \n",
              "              Precision : 0.2890007          \n",
              "                 Recall : 0.0206960          \n",
              "                     F1 : 0.0386260          \n",
              "             Prevalence : 0.0400755          \n",
              "         Detection Rate : 0.0008294          \n",
              "   Detection Prevalence : 0.0028699          \n",
              "      Balanced Accuracy : 0.5092852          \n",
              "                                             \n",
              "       'Positive' Class : Malicious          \n",
              "                                             "
            ]
          },
          "metadata": {}
        }
      ],
      "source": [
        "cm.b = confusionMatrix(\n",
        "  pred.mod.rf.b$predictions,\n",
        "  mydata.test$Classification,\n",
        "  mode=\"everything\");cm.b\n",
        "cm.ub = confusionMatrix(\n",
        "  pred.mod.rf.ub$predictions,\n",
        "  mydata.test$Classification,\n",
        "  mode=\"everything\");cm.ub"
      ]
    },
    {
      "cell_type": "code",
      "execution_count": null,
      "metadata": {
        "id": "ZPmThofK4Gn8",
        "colab": {
          "base_uri": "https://localhost:8080/",
          "height": 1000
        },
        "outputId": "7f12ec4c-9ca7-467f-999e-1c8330a94383"
      },
      "outputs": [
        {
          "output_type": "display_data",
          "data": {
            "text/html": [
              "<style>\n",
              ".list-inline {list-style: none; margin:0; padding: 0}\n",
              ".list-inline>li {display: inline-block}\n",
              ".list-inline>li:not(:last-child)::after {content: \"\\00b7\"; padding: 0 .5ex}\n",
              "</style>\n",
              "<ol class=list-inline><li>1800</li><li>9</li></ol>\n"
            ],
            "text/markdown": "1. 1800\n2. 9\n\n\n",
            "text/latex": "\\begin{enumerate*}\n\\item 1800\n\\item 9\n\\end{enumerate*}\n",
            "text/plain": [
              "[1] 1800    9"
            ]
          },
          "metadata": {}
        },
        {
          "output_type": "display_data",
          "data": {
            "text/html": [
              "<table class=\"dataframe\">\n",
              "<caption>A data.frame: 1800 × 9</caption>\n",
              "<thead>\n",
              "\t<tr><th scope=col>num.trees</th><th scope=col>mtry</th><th scope=col>min.node.size</th><th scope=col>replace</th><th scope=col>sample.fraction</th><th scope=col>OOB.misclass</th><th scope=col>test.sens</th><th scope=col>test.spec</th><th scope=col>test.acc</th></tr>\n",
              "\t<tr><th scope=col>&lt;dbl&gt;</th><th scope=col>&lt;int&gt;</th><th scope=col>&lt;dbl&gt;</th><th scope=col>&lt;lgl&gt;</th><th scope=col>&lt;dbl&gt;</th><th scope=col>&lt;lgl&gt;</th><th scope=col>&lt;lgl&gt;</th><th scope=col>&lt;lgl&gt;</th><th scope=col>&lt;lgl&gt;</th></tr>\n",
              "</thead>\n",
              "<tbody>\n",
              "\t<tr><td>200</td><td> 3</td><td>2</td><td>TRUE</td><td>0.5</td><td>NA</td><td>NA</td><td>NA</td><td>NA</td></tr>\n",
              "\t<tr><td>300</td><td> 3</td><td>2</td><td>TRUE</td><td>0.5</td><td>NA</td><td>NA</td><td>NA</td><td>NA</td></tr>\n",
              "\t<tr><td>400</td><td> 3</td><td>2</td><td>TRUE</td><td>0.5</td><td>NA</td><td>NA</td><td>NA</td><td>NA</td></tr>\n",
              "\t<tr><td>500</td><td> 3</td><td>2</td><td>TRUE</td><td>0.5</td><td>NA</td><td>NA</td><td>NA</td><td>NA</td></tr>\n",
              "\t<tr><td>200</td><td> 4</td><td>2</td><td>TRUE</td><td>0.5</td><td>NA</td><td>NA</td><td>NA</td><td>NA</td></tr>\n",
              "\t<tr><td>300</td><td> 4</td><td>2</td><td>TRUE</td><td>0.5</td><td>NA</td><td>NA</td><td>NA</td><td>NA</td></tr>\n",
              "\t<tr><td>400</td><td> 4</td><td>2</td><td>TRUE</td><td>0.5</td><td>NA</td><td>NA</td><td>NA</td><td>NA</td></tr>\n",
              "\t<tr><td>500</td><td> 4</td><td>2</td><td>TRUE</td><td>0.5</td><td>NA</td><td>NA</td><td>NA</td><td>NA</td></tr>\n",
              "\t<tr><td>200</td><td> 5</td><td>2</td><td>TRUE</td><td>0.5</td><td>NA</td><td>NA</td><td>NA</td><td>NA</td></tr>\n",
              "\t<tr><td>300</td><td> 5</td><td>2</td><td>TRUE</td><td>0.5</td><td>NA</td><td>NA</td><td>NA</td><td>NA</td></tr>\n",
              "\t<tr><td>400</td><td> 5</td><td>2</td><td>TRUE</td><td>0.5</td><td>NA</td><td>NA</td><td>NA</td><td>NA</td></tr>\n",
              "\t<tr><td>500</td><td> 5</td><td>2</td><td>TRUE</td><td>0.5</td><td>NA</td><td>NA</td><td>NA</td><td>NA</td></tr>\n",
              "\t<tr><td>200</td><td> 6</td><td>2</td><td>TRUE</td><td>0.5</td><td>NA</td><td>NA</td><td>NA</td><td>NA</td></tr>\n",
              "\t<tr><td>300</td><td> 6</td><td>2</td><td>TRUE</td><td>0.5</td><td>NA</td><td>NA</td><td>NA</td><td>NA</td></tr>\n",
              "\t<tr><td>400</td><td> 6</td><td>2</td><td>TRUE</td><td>0.5</td><td>NA</td><td>NA</td><td>NA</td><td>NA</td></tr>\n",
              "\t<tr><td>500</td><td> 6</td><td>2</td><td>TRUE</td><td>0.5</td><td>NA</td><td>NA</td><td>NA</td><td>NA</td></tr>\n",
              "\t<tr><td>200</td><td> 7</td><td>2</td><td>TRUE</td><td>0.5</td><td>NA</td><td>NA</td><td>NA</td><td>NA</td></tr>\n",
              "\t<tr><td>300</td><td> 7</td><td>2</td><td>TRUE</td><td>0.5</td><td>NA</td><td>NA</td><td>NA</td><td>NA</td></tr>\n",
              "\t<tr><td>400</td><td> 7</td><td>2</td><td>TRUE</td><td>0.5</td><td>NA</td><td>NA</td><td>NA</td><td>NA</td></tr>\n",
              "\t<tr><td>500</td><td> 7</td><td>2</td><td>TRUE</td><td>0.5</td><td>NA</td><td>NA</td><td>NA</td><td>NA</td></tr>\n",
              "\t<tr><td>200</td><td> 8</td><td>2</td><td>TRUE</td><td>0.5</td><td>NA</td><td>NA</td><td>NA</td><td>NA</td></tr>\n",
              "\t<tr><td>300</td><td> 8</td><td>2</td><td>TRUE</td><td>0.5</td><td>NA</td><td>NA</td><td>NA</td><td>NA</td></tr>\n",
              "\t<tr><td>400</td><td> 8</td><td>2</td><td>TRUE</td><td>0.5</td><td>NA</td><td>NA</td><td>NA</td><td>NA</td></tr>\n",
              "\t<tr><td>500</td><td> 8</td><td>2</td><td>TRUE</td><td>0.5</td><td>NA</td><td>NA</td><td>NA</td><td>NA</td></tr>\n",
              "\t<tr><td>200</td><td> 9</td><td>2</td><td>TRUE</td><td>0.5</td><td>NA</td><td>NA</td><td>NA</td><td>NA</td></tr>\n",
              "\t<tr><td>300</td><td> 9</td><td>2</td><td>TRUE</td><td>0.5</td><td>NA</td><td>NA</td><td>NA</td><td>NA</td></tr>\n",
              "\t<tr><td>400</td><td> 9</td><td>2</td><td>TRUE</td><td>0.5</td><td>NA</td><td>NA</td><td>NA</td><td>NA</td></tr>\n",
              "\t<tr><td>500</td><td> 9</td><td>2</td><td>TRUE</td><td>0.5</td><td>NA</td><td>NA</td><td>NA</td><td>NA</td></tr>\n",
              "\t<tr><td>200</td><td>10</td><td>2</td><td>TRUE</td><td>0.5</td><td>NA</td><td>NA</td><td>NA</td><td>NA</td></tr>\n",
              "\t<tr><td>300</td><td>10</td><td>2</td><td>TRUE</td><td>0.5</td><td>NA</td><td>NA</td><td>NA</td><td>NA</td></tr>\n",
              "\t<tr><td>⋮</td><td>⋮</td><td>⋮</td><td>⋮</td><td>⋮</td><td>⋮</td><td>⋮</td><td>⋮</td><td>⋮</td></tr>\n",
              "\t<tr><td>400</td><td> 4</td><td>10</td><td>FALSE</td><td>1</td><td>NA</td><td>NA</td><td>NA</td><td>NA</td></tr>\n",
              "\t<tr><td>500</td><td> 4</td><td>10</td><td>FALSE</td><td>1</td><td>NA</td><td>NA</td><td>NA</td><td>NA</td></tr>\n",
              "\t<tr><td>200</td><td> 5</td><td>10</td><td>FALSE</td><td>1</td><td>NA</td><td>NA</td><td>NA</td><td>NA</td></tr>\n",
              "\t<tr><td>300</td><td> 5</td><td>10</td><td>FALSE</td><td>1</td><td>NA</td><td>NA</td><td>NA</td><td>NA</td></tr>\n",
              "\t<tr><td>400</td><td> 5</td><td>10</td><td>FALSE</td><td>1</td><td>NA</td><td>NA</td><td>NA</td><td>NA</td></tr>\n",
              "\t<tr><td>500</td><td> 5</td><td>10</td><td>FALSE</td><td>1</td><td>NA</td><td>NA</td><td>NA</td><td>NA</td></tr>\n",
              "\t<tr><td>200</td><td> 6</td><td>10</td><td>FALSE</td><td>1</td><td>NA</td><td>NA</td><td>NA</td><td>NA</td></tr>\n",
              "\t<tr><td>300</td><td> 6</td><td>10</td><td>FALSE</td><td>1</td><td>NA</td><td>NA</td><td>NA</td><td>NA</td></tr>\n",
              "\t<tr><td>400</td><td> 6</td><td>10</td><td>FALSE</td><td>1</td><td>NA</td><td>NA</td><td>NA</td><td>NA</td></tr>\n",
              "\t<tr><td>500</td><td> 6</td><td>10</td><td>FALSE</td><td>1</td><td>NA</td><td>NA</td><td>NA</td><td>NA</td></tr>\n",
              "\t<tr><td>200</td><td> 7</td><td>10</td><td>FALSE</td><td>1</td><td>NA</td><td>NA</td><td>NA</td><td>NA</td></tr>\n",
              "\t<tr><td>300</td><td> 7</td><td>10</td><td>FALSE</td><td>1</td><td>NA</td><td>NA</td><td>NA</td><td>NA</td></tr>\n",
              "\t<tr><td>400</td><td> 7</td><td>10</td><td>FALSE</td><td>1</td><td>NA</td><td>NA</td><td>NA</td><td>NA</td></tr>\n",
              "\t<tr><td>500</td><td> 7</td><td>10</td><td>FALSE</td><td>1</td><td>NA</td><td>NA</td><td>NA</td><td>NA</td></tr>\n",
              "\t<tr><td>200</td><td> 8</td><td>10</td><td>FALSE</td><td>1</td><td>NA</td><td>NA</td><td>NA</td><td>NA</td></tr>\n",
              "\t<tr><td>300</td><td> 8</td><td>10</td><td>FALSE</td><td>1</td><td>NA</td><td>NA</td><td>NA</td><td>NA</td></tr>\n",
              "\t<tr><td>400</td><td> 8</td><td>10</td><td>FALSE</td><td>1</td><td>NA</td><td>NA</td><td>NA</td><td>NA</td></tr>\n",
              "\t<tr><td>500</td><td> 8</td><td>10</td><td>FALSE</td><td>1</td><td>NA</td><td>NA</td><td>NA</td><td>NA</td></tr>\n",
              "\t<tr><td>200</td><td> 9</td><td>10</td><td>FALSE</td><td>1</td><td>NA</td><td>NA</td><td>NA</td><td>NA</td></tr>\n",
              "\t<tr><td>300</td><td> 9</td><td>10</td><td>FALSE</td><td>1</td><td>NA</td><td>NA</td><td>NA</td><td>NA</td></tr>\n",
              "\t<tr><td>400</td><td> 9</td><td>10</td><td>FALSE</td><td>1</td><td>NA</td><td>NA</td><td>NA</td><td>NA</td></tr>\n",
              "\t<tr><td>500</td><td> 9</td><td>10</td><td>FALSE</td><td>1</td><td>NA</td><td>NA</td><td>NA</td><td>NA</td></tr>\n",
              "\t<tr><td>200</td><td>10</td><td>10</td><td>FALSE</td><td>1</td><td>NA</td><td>NA</td><td>NA</td><td>NA</td></tr>\n",
              "\t<tr><td>300</td><td>10</td><td>10</td><td>FALSE</td><td>1</td><td>NA</td><td>NA</td><td>NA</td><td>NA</td></tr>\n",
              "\t<tr><td>400</td><td>10</td><td>10</td><td>FALSE</td><td>1</td><td>NA</td><td>NA</td><td>NA</td><td>NA</td></tr>\n",
              "\t<tr><td>500</td><td>10</td><td>10</td><td>FALSE</td><td>1</td><td>NA</td><td>NA</td><td>NA</td><td>NA</td></tr>\n",
              "\t<tr><td>200</td><td>11</td><td>10</td><td>FALSE</td><td>1</td><td>NA</td><td>NA</td><td>NA</td><td>NA</td></tr>\n",
              "\t<tr><td>300</td><td>11</td><td>10</td><td>FALSE</td><td>1</td><td>NA</td><td>NA</td><td>NA</td><td>NA</td></tr>\n",
              "\t<tr><td>400</td><td>11</td><td>10</td><td>FALSE</td><td>1</td><td>NA</td><td>NA</td><td>NA</td><td>NA</td></tr>\n",
              "\t<tr><td>500</td><td>11</td><td>10</td><td>FALSE</td><td>1</td><td>NA</td><td>NA</td><td>NA</td><td>NA</td></tr>\n",
              "</tbody>\n",
              "</table>\n"
            ],
            "text/markdown": "\nA data.frame: 1800 × 9\n\n| num.trees &lt;dbl&gt; | mtry &lt;int&gt; | min.node.size &lt;dbl&gt; | replace &lt;lgl&gt; | sample.fraction &lt;dbl&gt; | OOB.misclass &lt;lgl&gt; | test.sens &lt;lgl&gt; | test.spec &lt;lgl&gt; | test.acc &lt;lgl&gt; |\n|---|---|---|---|---|---|---|---|---|\n| 200 |  3 | 2 | TRUE | 0.5 | NA | NA | NA | NA |\n| 300 |  3 | 2 | TRUE | 0.5 | NA | NA | NA | NA |\n| 400 |  3 | 2 | TRUE | 0.5 | NA | NA | NA | NA |\n| 500 |  3 | 2 | TRUE | 0.5 | NA | NA | NA | NA |\n| 200 |  4 | 2 | TRUE | 0.5 | NA | NA | NA | NA |\n| 300 |  4 | 2 | TRUE | 0.5 | NA | NA | NA | NA |\n| 400 |  4 | 2 | TRUE | 0.5 | NA | NA | NA | NA |\n| 500 |  4 | 2 | TRUE | 0.5 | NA | NA | NA | NA |\n| 200 |  5 | 2 | TRUE | 0.5 | NA | NA | NA | NA |\n| 300 |  5 | 2 | TRUE | 0.5 | NA | NA | NA | NA |\n| 400 |  5 | 2 | TRUE | 0.5 | NA | NA | NA | NA |\n| 500 |  5 | 2 | TRUE | 0.5 | NA | NA | NA | NA |\n| 200 |  6 | 2 | TRUE | 0.5 | NA | NA | NA | NA |\n| 300 |  6 | 2 | TRUE | 0.5 | NA | NA | NA | NA |\n| 400 |  6 | 2 | TRUE | 0.5 | NA | NA | NA | NA |\n| 500 |  6 | 2 | TRUE | 0.5 | NA | NA | NA | NA |\n| 200 |  7 | 2 | TRUE | 0.5 | NA | NA | NA | NA |\n| 300 |  7 | 2 | TRUE | 0.5 | NA | NA | NA | NA |\n| 400 |  7 | 2 | TRUE | 0.5 | NA | NA | NA | NA |\n| 500 |  7 | 2 | TRUE | 0.5 | NA | NA | NA | NA |\n| 200 |  8 | 2 | TRUE | 0.5 | NA | NA | NA | NA |\n| 300 |  8 | 2 | TRUE | 0.5 | NA | NA | NA | NA |\n| 400 |  8 | 2 | TRUE | 0.5 | NA | NA | NA | NA |\n| 500 |  8 | 2 | TRUE | 0.5 | NA | NA | NA | NA |\n| 200 |  9 | 2 | TRUE | 0.5 | NA | NA | NA | NA |\n| 300 |  9 | 2 | TRUE | 0.5 | NA | NA | NA | NA |\n| 400 |  9 | 2 | TRUE | 0.5 | NA | NA | NA | NA |\n| 500 |  9 | 2 | TRUE | 0.5 | NA | NA | NA | NA |\n| 200 | 10 | 2 | TRUE | 0.5 | NA | NA | NA | NA |\n| 300 | 10 | 2 | TRUE | 0.5 | NA | NA | NA | NA |\n| ⋮ | ⋮ | ⋮ | ⋮ | ⋮ | ⋮ | ⋮ | ⋮ | ⋮ |\n| 400 |  4 | 10 | FALSE | 1 | NA | NA | NA | NA |\n| 500 |  4 | 10 | FALSE | 1 | NA | NA | NA | NA |\n| 200 |  5 | 10 | FALSE | 1 | NA | NA | NA | NA |\n| 300 |  5 | 10 | FALSE | 1 | NA | NA | NA | NA |\n| 400 |  5 | 10 | FALSE | 1 | NA | NA | NA | NA |\n| 500 |  5 | 10 | FALSE | 1 | NA | NA | NA | NA |\n| 200 |  6 | 10 | FALSE | 1 | NA | NA | NA | NA |\n| 300 |  6 | 10 | FALSE | 1 | NA | NA | NA | NA |\n| 400 |  6 | 10 | FALSE | 1 | NA | NA | NA | NA |\n| 500 |  6 | 10 | FALSE | 1 | NA | NA | NA | NA |\n| 200 |  7 | 10 | FALSE | 1 | NA | NA | NA | NA |\n| 300 |  7 | 10 | FALSE | 1 | NA | NA | NA | NA |\n| 400 |  7 | 10 | FALSE | 1 | NA | NA | NA | NA |\n| 500 |  7 | 10 | FALSE | 1 | NA | NA | NA | NA |\n| 200 |  8 | 10 | FALSE | 1 | NA | NA | NA | NA |\n| 300 |  8 | 10 | FALSE | 1 | NA | NA | NA | NA |\n| 400 |  8 | 10 | FALSE | 1 | NA | NA | NA | NA |\n| 500 |  8 | 10 | FALSE | 1 | NA | NA | NA | NA |\n| 200 |  9 | 10 | FALSE | 1 | NA | NA | NA | NA |\n| 300 |  9 | 10 | FALSE | 1 | NA | NA | NA | NA |\n| 400 |  9 | 10 | FALSE | 1 | NA | NA | NA | NA |\n| 500 |  9 | 10 | FALSE | 1 | NA | NA | NA | NA |\n| 200 | 10 | 10 | FALSE | 1 | NA | NA | NA | NA |\n| 300 | 10 | 10 | FALSE | 1 | NA | NA | NA | NA |\n| 400 | 10 | 10 | FALSE | 1 | NA | NA | NA | NA |\n| 500 | 10 | 10 | FALSE | 1 | NA | NA | NA | NA |\n| 200 | 11 | 10 | FALSE | 1 | NA | NA | NA | NA |\n| 300 | 11 | 10 | FALSE | 1 | NA | NA | NA | NA |\n| 400 | 11 | 10 | FALSE | 1 | NA | NA | NA | NA |\n| 500 | 11 | 10 | FALSE | 1 | NA | NA | NA | NA |\n\n",
            "text/latex": "A data.frame: 1800 × 9\n\\begin{tabular}{lllllllll}\n num.trees & mtry & min.node.size & replace & sample.fraction & OOB.misclass & test.sens & test.spec & test.acc\\\\\n <dbl> & <int> & <dbl> & <lgl> & <dbl> & <lgl> & <lgl> & <lgl> & <lgl>\\\\\n\\hline\n\t 200 &  3 & 2 & TRUE & 0.5 & NA & NA & NA & NA\\\\\n\t 300 &  3 & 2 & TRUE & 0.5 & NA & NA & NA & NA\\\\\n\t 400 &  3 & 2 & TRUE & 0.5 & NA & NA & NA & NA\\\\\n\t 500 &  3 & 2 & TRUE & 0.5 & NA & NA & NA & NA\\\\\n\t 200 &  4 & 2 & TRUE & 0.5 & NA & NA & NA & NA\\\\\n\t 300 &  4 & 2 & TRUE & 0.5 & NA & NA & NA & NA\\\\\n\t 400 &  4 & 2 & TRUE & 0.5 & NA & NA & NA & NA\\\\\n\t 500 &  4 & 2 & TRUE & 0.5 & NA & NA & NA & NA\\\\\n\t 200 &  5 & 2 & TRUE & 0.5 & NA & NA & NA & NA\\\\\n\t 300 &  5 & 2 & TRUE & 0.5 & NA & NA & NA & NA\\\\\n\t 400 &  5 & 2 & TRUE & 0.5 & NA & NA & NA & NA\\\\\n\t 500 &  5 & 2 & TRUE & 0.5 & NA & NA & NA & NA\\\\\n\t 200 &  6 & 2 & TRUE & 0.5 & NA & NA & NA & NA\\\\\n\t 300 &  6 & 2 & TRUE & 0.5 & NA & NA & NA & NA\\\\\n\t 400 &  6 & 2 & TRUE & 0.5 & NA & NA & NA & NA\\\\\n\t 500 &  6 & 2 & TRUE & 0.5 & NA & NA & NA & NA\\\\\n\t 200 &  7 & 2 & TRUE & 0.5 & NA & NA & NA & NA\\\\\n\t 300 &  7 & 2 & TRUE & 0.5 & NA & NA & NA & NA\\\\\n\t 400 &  7 & 2 & TRUE & 0.5 & NA & NA & NA & NA\\\\\n\t 500 &  7 & 2 & TRUE & 0.5 & NA & NA & NA & NA\\\\\n\t 200 &  8 & 2 & TRUE & 0.5 & NA & NA & NA & NA\\\\\n\t 300 &  8 & 2 & TRUE & 0.5 & NA & NA & NA & NA\\\\\n\t 400 &  8 & 2 & TRUE & 0.5 & NA & NA & NA & NA\\\\\n\t 500 &  8 & 2 & TRUE & 0.5 & NA & NA & NA & NA\\\\\n\t 200 &  9 & 2 & TRUE & 0.5 & NA & NA & NA & NA\\\\\n\t 300 &  9 & 2 & TRUE & 0.5 & NA & NA & NA & NA\\\\\n\t 400 &  9 & 2 & TRUE & 0.5 & NA & NA & NA & NA\\\\\n\t 500 &  9 & 2 & TRUE & 0.5 & NA & NA & NA & NA\\\\\n\t 200 & 10 & 2 & TRUE & 0.5 & NA & NA & NA & NA\\\\\n\t 300 & 10 & 2 & TRUE & 0.5 & NA & NA & NA & NA\\\\\n\t ⋮ & ⋮ & ⋮ & ⋮ & ⋮ & ⋮ & ⋮ & ⋮ & ⋮\\\\\n\t 400 &  4 & 10 & FALSE & 1 & NA & NA & NA & NA\\\\\n\t 500 &  4 & 10 & FALSE & 1 & NA & NA & NA & NA\\\\\n\t 200 &  5 & 10 & FALSE & 1 & NA & NA & NA & NA\\\\\n\t 300 &  5 & 10 & FALSE & 1 & NA & NA & NA & NA\\\\\n\t 400 &  5 & 10 & FALSE & 1 & NA & NA & NA & NA\\\\\n\t 500 &  5 & 10 & FALSE & 1 & NA & NA & NA & NA\\\\\n\t 200 &  6 & 10 & FALSE & 1 & NA & NA & NA & NA\\\\\n\t 300 &  6 & 10 & FALSE & 1 & NA & NA & NA & NA\\\\\n\t 400 &  6 & 10 & FALSE & 1 & NA & NA & NA & NA\\\\\n\t 500 &  6 & 10 & FALSE & 1 & NA & NA & NA & NA\\\\\n\t 200 &  7 & 10 & FALSE & 1 & NA & NA & NA & NA\\\\\n\t 300 &  7 & 10 & FALSE & 1 & NA & NA & NA & NA\\\\\n\t 400 &  7 & 10 & FALSE & 1 & NA & NA & NA & NA\\\\\n\t 500 &  7 & 10 & FALSE & 1 & NA & NA & NA & NA\\\\\n\t 200 &  8 & 10 & FALSE & 1 & NA & NA & NA & NA\\\\\n\t 300 &  8 & 10 & FALSE & 1 & NA & NA & NA & NA\\\\\n\t 400 &  8 & 10 & FALSE & 1 & NA & NA & NA & NA\\\\\n\t 500 &  8 & 10 & FALSE & 1 & NA & NA & NA & NA\\\\\n\t 200 &  9 & 10 & FALSE & 1 & NA & NA & NA & NA\\\\\n\t 300 &  9 & 10 & FALSE & 1 & NA & NA & NA & NA\\\\\n\t 400 &  9 & 10 & FALSE & 1 & NA & NA & NA & NA\\\\\n\t 500 &  9 & 10 & FALSE & 1 & NA & NA & NA & NA\\\\\n\t 200 & 10 & 10 & FALSE & 1 & NA & NA & NA & NA\\\\\n\t 300 & 10 & 10 & FALSE & 1 & NA & NA & NA & NA\\\\\n\t 400 & 10 & 10 & FALSE & 1 & NA & NA & NA & NA\\\\\n\t 500 & 10 & 10 & FALSE & 1 & NA & NA & NA & NA\\\\\n\t 200 & 11 & 10 & FALSE & 1 & NA & NA & NA & NA\\\\\n\t 300 & 11 & 10 & FALSE & 1 & NA & NA & NA & NA\\\\\n\t 400 & 11 & 10 & FALSE & 1 & NA & NA & NA & NA\\\\\n\t 500 & 11 & 10 & FALSE & 1 & NA & NA & NA & NA\\\\\n\\end{tabular}\n",
            "text/plain": [
              "     num.trees mtry min.node.size replace sample.fraction OOB.misclass\n",
              "1    200        3   2             TRUE    0.5             NA          \n",
              "2    300        3   2             TRUE    0.5             NA          \n",
              "3    400        3   2             TRUE    0.5             NA          \n",
              "4    500        3   2             TRUE    0.5             NA          \n",
              "5    200        4   2             TRUE    0.5             NA          \n",
              "6    300        4   2             TRUE    0.5             NA          \n",
              "7    400        4   2             TRUE    0.5             NA          \n",
              "8    500        4   2             TRUE    0.5             NA          \n",
              "9    200        5   2             TRUE    0.5             NA          \n",
              "10   300        5   2             TRUE    0.5             NA          \n",
              "11   400        5   2             TRUE    0.5             NA          \n",
              "12   500        5   2             TRUE    0.5             NA          \n",
              "13   200        6   2             TRUE    0.5             NA          \n",
              "14   300        6   2             TRUE    0.5             NA          \n",
              "15   400        6   2             TRUE    0.5             NA          \n",
              "16   500        6   2             TRUE    0.5             NA          \n",
              "17   200        7   2             TRUE    0.5             NA          \n",
              "18   300        7   2             TRUE    0.5             NA          \n",
              "19   400        7   2             TRUE    0.5             NA          \n",
              "20   500        7   2             TRUE    0.5             NA          \n",
              "21   200        8   2             TRUE    0.5             NA          \n",
              "22   300        8   2             TRUE    0.5             NA          \n",
              "23   400        8   2             TRUE    0.5             NA          \n",
              "24   500        8   2             TRUE    0.5             NA          \n",
              "25   200        9   2             TRUE    0.5             NA          \n",
              "26   300        9   2             TRUE    0.5             NA          \n",
              "27   400        9   2             TRUE    0.5             NA          \n",
              "28   500        9   2             TRUE    0.5             NA          \n",
              "29   200       10   2             TRUE    0.5             NA          \n",
              "30   300       10   2             TRUE    0.5             NA          \n",
              "⋮    ⋮         ⋮    ⋮             ⋮       ⋮               ⋮           \n",
              "1771 400        4   10            FALSE   1               NA          \n",
              "1772 500        4   10            FALSE   1               NA          \n",
              "1773 200        5   10            FALSE   1               NA          \n",
              "1774 300        5   10            FALSE   1               NA          \n",
              "1775 400        5   10            FALSE   1               NA          \n",
              "1776 500        5   10            FALSE   1               NA          \n",
              "1777 200        6   10            FALSE   1               NA          \n",
              "1778 300        6   10            FALSE   1               NA          \n",
              "1779 400        6   10            FALSE   1               NA          \n",
              "1780 500        6   10            FALSE   1               NA          \n",
              "1781 200        7   10            FALSE   1               NA          \n",
              "1782 300        7   10            FALSE   1               NA          \n",
              "1783 400        7   10            FALSE   1               NA          \n",
              "1784 500        7   10            FALSE   1               NA          \n",
              "1785 200        8   10            FALSE   1               NA          \n",
              "1786 300        8   10            FALSE   1               NA          \n",
              "1787 400        8   10            FALSE   1               NA          \n",
              "1788 500        8   10            FALSE   1               NA          \n",
              "1789 200        9   10            FALSE   1               NA          \n",
              "1790 300        9   10            FALSE   1               NA          \n",
              "1791 400        9   10            FALSE   1               NA          \n",
              "1792 500        9   10            FALSE   1               NA          \n",
              "1793 200       10   10            FALSE   1               NA          \n",
              "1794 300       10   10            FALSE   1               NA          \n",
              "1795 400       10   10            FALSE   1               NA          \n",
              "1796 500       10   10            FALSE   1               NA          \n",
              "1797 200       11   10            FALSE   1               NA          \n",
              "1798 300       11   10            FALSE   1               NA          \n",
              "1799 400       11   10            FALSE   1               NA          \n",
              "1800 500       11   10            FALSE   1               NA          \n",
              "     test.sens test.spec test.acc\n",
              "1    NA        NA        NA      \n",
              "2    NA        NA        NA      \n",
              "3    NA        NA        NA      \n",
              "4    NA        NA        NA      \n",
              "5    NA        NA        NA      \n",
              "6    NA        NA        NA      \n",
              "7    NA        NA        NA      \n",
              "8    NA        NA        NA      \n",
              "9    NA        NA        NA      \n",
              "10   NA        NA        NA      \n",
              "11   NA        NA        NA      \n",
              "12   NA        NA        NA      \n",
              "13   NA        NA        NA      \n",
              "14   NA        NA        NA      \n",
              "15   NA        NA        NA      \n",
              "16   NA        NA        NA      \n",
              "17   NA        NA        NA      \n",
              "18   NA        NA        NA      \n",
              "19   NA        NA        NA      \n",
              "20   NA        NA        NA      \n",
              "21   NA        NA        NA      \n",
              "22   NA        NA        NA      \n",
              "23   NA        NA        NA      \n",
              "24   NA        NA        NA      \n",
              "25   NA        NA        NA      \n",
              "26   NA        NA        NA      \n",
              "27   NA        NA        NA      \n",
              "28   NA        NA        NA      \n",
              "29   NA        NA        NA      \n",
              "30   NA        NA        NA      \n",
              "⋮    ⋮         ⋮         ⋮       \n",
              "1771 NA        NA        NA      \n",
              "1772 NA        NA        NA      \n",
              "1773 NA        NA        NA      \n",
              "1774 NA        NA        NA      \n",
              "1775 NA        NA        NA      \n",
              "1776 NA        NA        NA      \n",
              "1777 NA        NA        NA      \n",
              "1778 NA        NA        NA      \n",
              "1779 NA        NA        NA      \n",
              "1780 NA        NA        NA      \n",
              "1781 NA        NA        NA      \n",
              "1782 NA        NA        NA      \n",
              "1783 NA        NA        NA      \n",
              "1784 NA        NA        NA      \n",
              "1785 NA        NA        NA      \n",
              "1786 NA        NA        NA      \n",
              "1787 NA        NA        NA      \n",
              "1788 NA        NA        NA      \n",
              "1789 NA        NA        NA      \n",
              "1790 NA        NA        NA      \n",
              "1791 NA        NA        NA      \n",
              "1792 NA        NA        NA      \n",
              "1793 NA        NA        NA      \n",
              "1794 NA        NA        NA      \n",
              "1795 NA        NA        NA      \n",
              "1796 NA        NA        NA      \n",
              "1797 NA        NA        NA      \n",
              "1798 NA        NA        NA      \n",
              "1799 NA        NA        NA      \n",
              "1800 NA        NA        NA      "
            ]
          },
          "metadata": {}
        }
      ],
      "source": [
        "grid.rf = expand.grid(num.trees = c(200, 300, 400, 500),\n",
        "                      mtry = c(3:11),\n",
        "                      min.node.size = seq(2, 10, 2),\n",
        "                      replace = c(TRUE, FALSE),\n",
        "                      sample.fraction = c(0.5, 0.6, 0.7, 0.8, 1),\n",
        "                      OOB.misclass = NA,\n",
        "                      test.sens = NA,\n",
        "                      test.spec = NA,\n",
        "                      test.acc = NA)\n",
        "dim(grid.rf)\n",
        "grid.rf"
      ]
    },
    {
      "cell_type": "code",
      "execution_count": null,
      "metadata": {
        "id": "rrDjy-pq4Ifu"
      },
      "outputs": [],
      "source": [
        "rf.train = function(data.train) {\n",
        "  for (I in 1:nrow(grid.rf)) {\n",
        "    rf = ranger(Classification ~ .,\n",
        "                data = data.train,\n",
        "                num.trees = grid.rf$num.trees[I],\n",
        "                mtry = grid.rf$mtry[I],\n",
        "                min.node.size = grid.rf$min.node.size[I],\n",
        "                replace = grid.rf$replace[I],\n",
        "                sample.fraction = grid.rf$sample.fraction[I],\n",
        "                seed = 10582390,\n",
        "                respect.unordered.factors = \"order\")\n",
        "\n",
        "    grid.rf$OOB.misclass[I] = rf$prediction.error %>% round(5) * 100\n",
        "\n",
        "    pred.test = predict(rf, data = mydata.test)$predictions\n",
        "\n",
        "    test.cf = confusionMatrix(relevel(pred.test, ref=\"Malicious\"),\n",
        "            relevel(mydata.test$Classification, ref=\"Malicious\"))\n",
        "\n",
        "    prop.cf = test.cf$table %>% prop.table(2)\n",
        "    grid.rf$test.sens[I] = prop.cf[1,1] %>% round(5)*100      #Sensitivity\n",
        "    grid.rf$test.spec[I] = prop.cf[2,2] %>% round(5)*100      #Specificity\n",
        "    grid.rf$test.acc[I] = test.cf$overall[1] %>% round(5)*100 #Accuracy\n",
        "  }\n",
        "  return(grid.rf[order(grid.rf$OOB.misclass, decreasing = FALSE)[1:10],])\n",
        "}"
      ]
    },
    {
      "cell_type": "code",
      "execution_count": null,
      "metadata": {
        "id": "4017QWVn4K2r"
      },
      "outputs": [],
      "source": [
        "rf.train(mydata.b.train)"
      ]
    },
    {
      "cell_type": "code",
      "execution_count": null,
      "metadata": {
        "id": "RZRZC4b74Lzn"
      },
      "outputs": [],
      "source": [
        "rf.train(mydata.ub.train)"
      ]
    }
  ],
  "metadata": {
    "colab": {
      "provenance": [],
      "authorship_tag": "ABX9TyO0G3FyTFLAO2MHhDwWtUBC",
      "include_colab_link": true
    },
    "kernelspec": {
      "display_name": "R",
      "name": "ir"
    },
    "language_info": {
      "name": "R"
    }
  },
  "nbformat": 4,
  "nbformat_minor": 0
}