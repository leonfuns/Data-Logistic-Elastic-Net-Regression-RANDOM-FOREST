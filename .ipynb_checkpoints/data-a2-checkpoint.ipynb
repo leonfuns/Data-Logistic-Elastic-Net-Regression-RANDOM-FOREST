{
 "cells": [
  {
   "cell_type": "code",
   "execution_count": null,
   "metadata": {},
   "outputs": [],
   "source": [
    "install.packages(c(\"tidyverse\",\"caret\",\"ranger\",\"ggpubr\"))"
   ]
  }
 ],
 "metadata": {
  "language_info": {
   "name": "python"
  }
 },
 "nbformat": 4,
 "nbformat_minor": 2
}
